{
 "cells": [
  {
   "cell_type": "markdown",
   "id": "56b8b75a",
   "metadata": {},
   "source": [
    "feature selection and dimensionality reduction techniques"
   ]
  },
  {
   "cell_type": "code",
   "execution_count": 2,
   "id": "b6a69983",
   "metadata": {},
   "outputs": [],
   "source": [
    "from sklearn.datasets import load_breast_cancer\n",
    "import pandas as pd\n",
    "import numpy as np\n",
    "\n",
    "data=load_breast_cancer()\n",
    "X=pd.DataFrame(data.data,columns=data.feature_names)\n",
    "y=data.target\n",
    "\n"
   ]
  },
  {
   "cell_type": "code",
   "execution_count": 3,
   "id": "7499e641",
   "metadata": {},
   "outputs": [
    {
     "name": "stdout",
     "output_type": "stream",
     "text": [
      "Index(['mean perimeter', 'mean concave points', 'worst radius',\n",
      "       'worst perimeter', 'worst concave points'],\n",
      "      dtype='object')\n"
     ]
    }
   ],
   "source": [
    "from sklearn.feature_selection import SelectKBest,f_classif\n",
    "\n",
    "selector=SelectKBest(score_func=f_classif,k=5)\n",
    "\n",
    "X_filter=selector.fit_transform(X,y)\n",
    "\n",
    "selected_fetures=X.columns[selector.get_support()]\n",
    "print(selected_fetures)"
   ]
  },
  {
   "cell_type": "code",
   "execution_count": 6,
   "id": "0beebde0",
   "metadata": {},
   "outputs": [
    {
     "name": "stdout",
     "output_type": "stream",
     "text": [
      "Index(['mean radius', 'texture error', 'worst radius', 'worst compactness',\n",
      "       'worst concavity'],\n",
      "      dtype='object')\n"
     ]
    }
   ],
   "source": [
    "from sklearn.feature_selection import RFE\n",
    "from sklearn.linear_model import LogisticRegression\n",
    "\n",
    "model=LogisticRegression(max_iter=5000)\n",
    "rfe=RFE(model,n_features_to_select=5)\n",
    "X_wrapper=rfe.fit_transform(X,y)\n",
    "\n",
    "print(X.columns[rfe.support_])\n"
   ]
  },
  {
   "cell_type": "code",
   "execution_count": 7,
   "id": "d5256aa6",
   "metadata": {},
   "outputs": [
    {
     "name": "stdout",
     "output_type": "stream",
     "text": [
      "Embedded method selected features:\n",
      " Index(['mean texture', 'mean concave points', 'mean fractal dimension',\n",
      "       'radius error', 'smoothness error', 'concavity error', 'worst radius',\n",
      "       'worst texture', 'worst smoothness', 'worst concavity',\n",
      "       'worst concave points', 'worst symmetry'],\n",
      "      dtype='object')\n"
     ]
    }
   ],
   "source": [
    "from sklearn.linear_model import Lasso\n",
    "from sklearn.preprocessing import StandardScaler\n",
    "\n",
    "scaler=StandardScaler()\n",
    "X_scaled=scaler.fit_transform(X)\n",
    "\n",
    "lasso=Lasso(alpha=0.01)\n",
    "lasso.fit(X_scaled,y)\n",
    "\n",
    "lasso_features=X.columns[lasso.coef_!=0]\n",
    "print(\"Embedded method selected features:\\n\", lasso_features)\n"
   ]
  },
  {
   "cell_type": "code",
   "execution_count": 9,
   "id": "183a5267",
   "metadata": {},
   "outputs": [
    {
     "name": "stdout",
     "output_type": "stream",
     "text": [
      "PCA reduced dimensions: 10\n"
     ]
    }
   ],
   "source": [
    "from sklearn.decomposition import PCA\n",
    "\n",
    "pca=PCA(n_components=0.95)\n",
    "X_pca=pca.fit_transform(X_scaled)\n",
    "\n",
    "print(\"PCA reduced dimensions:\",X_pca.shape[1])"
   ]
  },
  {
   "cell_type": "code",
   "execution_count": null,
   "id": "01e4b828",
   "metadata": {},
   "outputs": [],
   "source": []
  }
 ],
 "metadata": {
  "kernelspec": {
   "display_name": "exassaro",
   "language": "python",
   "name": "python3"
  },
  "language_info": {
   "codemirror_mode": {
    "name": "ipython",
    "version": 3
   },
   "file_extension": ".py",
   "mimetype": "text/x-python",
   "name": "python",
   "nbconvert_exporter": "python",
   "pygments_lexer": "ipython3",
   "version": "3.12.9"
  }
 },
 "nbformat": 4,
 "nbformat_minor": 5
}
