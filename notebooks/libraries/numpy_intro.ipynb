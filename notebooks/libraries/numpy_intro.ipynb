{
 "cells": [
  {
   "cell_type": "code",
   "execution_count": 1,
   "id": "5f1d41e6",
   "metadata": {},
   "outputs": [
    {
     "name": "stdout",
     "output_type": "stream",
     "text": [
      "[1 2 3 4]\n"
     ]
    }
   ],
   "source": [
    "import numpy as np\n",
    "arr=np.array([1,2,3,4])\n",
    "print(arr)"
   ]
  },
  {
   "cell_type": "code",
   "execution_count": 2,
   "id": "ea471623",
   "metadata": {},
   "outputs": [
    {
     "name": "stdout",
     "output_type": "stream",
     "text": [
      "[[1 2 3 4]\n",
      " [6 7 8 9]]\n"
     ]
    }
   ],
   "source": [
    "x=[[1,2,3,4],[6,7,8,9]]\n",
    "arr1=np.array(x)\n",
    "print(arr1)\n"
   ]
  },
  {
   "cell_type": "code",
   "execution_count": 3,
   "id": "89942272",
   "metadata": {},
   "outputs": [
    {
     "data": {
      "text/plain": [
       "2"
      ]
     },
     "execution_count": 3,
     "metadata": {},
     "output_type": "execute_result"
    }
   ],
   "source": [
    "arr1.ndim #to know the dimention"
   ]
  },
  {
   "cell_type": "code",
   "execution_count": 4,
   "id": "19ac49a6",
   "metadata": {},
   "outputs": [
    {
     "data": {
      "text/plain": [
       "(2, 4)"
      ]
     },
     "execution_count": 4,
     "metadata": {},
     "output_type": "execute_result"
    }
   ],
   "source": [
    "arr1.shape #gives number of rows and columns"
   ]
  },
  {
   "cell_type": "code",
   "execution_count": 5,
   "id": "b7cac9b6",
   "metadata": {},
   "outputs": [
    {
     "name": "stdout",
     "output_type": "stream",
     "text": [
      "[[[1 2]\n",
      "  [3 4]]\n",
      "\n",
      " [[5 6]\n",
      "  [7 8]]]\n"
     ]
    },
    {
     "data": {
      "text/plain": [
       "3"
      ]
     },
     "execution_count": 5,
     "metadata": {},
     "output_type": "execute_result"
    }
   ],
   "source": [
    "arr3D = np.array([[[1, 2], [3, 4]], [[5, 6], [7, 8]]])\n",
    "print(arr3D)\n",
    "arr3D.ndim"
   ]
  },
  {
   "cell_type": "code",
   "execution_count": 6,
   "id": "ae1ee907",
   "metadata": {},
   "outputs": [
    {
     "data": {
      "text/plain": [
       "(2, 2, 2)"
      ]
     },
     "execution_count": 6,
     "metadata": {},
     "output_type": "execute_result"
    }
   ],
   "source": [
    "arr3D.shape"
   ]
  },
  {
   "cell_type": "code",
   "execution_count": 7,
   "id": "cb1dedee",
   "metadata": {},
   "outputs": [
    {
     "name": "stdout",
     "output_type": "stream",
     "text": [
      "int64\n"
     ]
    }
   ],
   "source": [
    "print(arr1.dtype)#Type of data"
   ]
  },
  {
   "cell_type": "code",
   "execution_count": 8,
   "id": "e5fbf1f2",
   "metadata": {},
   "outputs": [
    {
     "name": "stdout",
     "output_type": "stream",
     "text": [
      "[[0. 0. 0.]\n",
      " [0. 0. 0.]\n",
      " [0. 0. 0.]]\n",
      "[[1. 1.]\n",
      " [1. 1.]]\n",
      "[[1. 0. 0. 0.]\n",
      " [0. 1. 0. 0.]\n",
      " [0. 0. 1. 0.]\n",
      " [0. 0. 0. 1.]]\n",
      "[1 3 5 7 9]\n",
      "[ 0.   2.5  5.   7.5 10. ]\n"
     ]
    }
   ],
   "source": [
    "print(np.zeros((3,3)))#zero matrix\n",
    "print(np.ones((2,2)))#Matrix of ones\n",
    "print(np.eye(4)) # identity matrix\n",
    "print(np.arange(1,10,2))\n",
    "print(np.linspace(0,10,5)) # evenly spaced"
   ]
  },
  {
   "cell_type": "markdown",
   "id": "3f14073f",
   "metadata": {},
   "source": [
    "# Data types in numpy"
   ]
  },
  {
   "cell_type": "code",
   "execution_count": 9,
   "id": "1051adfc",
   "metadata": {},
   "outputs": [
    {
     "name": "stdout",
     "output_type": "stream",
     "text": [
      "[0. 1. 2. 3. 4. 5. 6. 7. 8. 9.]\n"
     ]
    }
   ],
   "source": [
    "import numpy as np \n",
    "\n",
    "a=np.array(list(range(10)),dtype=np.float64)\n",
    "print(a)"
   ]
  },
  {
   "cell_type": "code",
   "execution_count": 10,
   "id": "c112d231",
   "metadata": {},
   "outputs": [
    {
     "name": "stdout",
     "output_type": "stream",
     "text": [
      "[0 1 2 3 4 5 6 7 8 9]\n"
     ]
    }
   ],
   "source": [
    "arrint=np.array(list(range(10)),dtype=np.int32)\n",
    "print(arrint)"
   ]
  },
  {
   "cell_type": "code",
   "execution_count": 11,
   "id": "4916ddcf",
   "metadata": {},
   "outputs": [
    {
     "name": "stdout",
     "output_type": "stream",
     "text": [
      "[0. 1. 2. 3. 4. 5. 6. 7. 8. 9.]\n",
      "float64\n"
     ]
    }
   ],
   "source": [
    "v=arrint.astype(np.float64) #convert to another data type\n",
    "print(v)\n",
    "print(v.dtype) # find what kinnd  of data type"
   ]
  },
  {
   "cell_type": "code",
   "execution_count": 13,
   "id": "35e0127a",
   "metadata": {},
   "outputs": [
    {
     "name": "stdout",
     "output_type": "stream",
     "text": [
      "[b'1' b'2' b'3' b'4']\n"
     ]
    }
   ],
   "source": [
    "x=['1','2','3','4']\n",
    "num_string=np.array(x,dtype=np.bytes_)\n",
    "print(num_string)"
   ]
  },
  {
   "cell_type": "code",
   "execution_count": 15,
   "id": "6059b404",
   "metadata": {},
   "outputs": [
    {
     "name": "stdout",
     "output_type": "stream",
     "text": [
      "[1 2 3 4]\n"
     ]
    }
   ],
   "source": [
    "num_arry=num_string.astype(np.int32)\n",
    "print(num_arry)#we can convert array of string to integer type as well"
   ]
  },
  {
   "cell_type": "code",
   "execution_count": 16,
   "id": "f74af7f7",
   "metadata": {},
   "outputs": [
    {
     "name": "stdout",
     "output_type": "stream",
     "text": [
      "[1. 2. 3. 4.]\n"
     ]
    }
   ],
   "source": [
    "nums=num_string.astype(a.dtype)\n",
    "print(nums)#we can also specifically convert them to a previous datatype of an array"
   ]
  },
  {
   "cell_type": "markdown",
   "id": "02820f8e",
   "metadata": {},
   "source": [
    "# Pseudo random number generation"
   ]
  },
  {
   "cell_type": "code",
   "execution_count": 17,
   "id": "8dc7762b",
   "metadata": {},
   "outputs": [
    {
     "name": "stdout",
     "output_type": "stream",
     "text": [
      "[-1.53953639  1.35730049  1.35414716 -0.77006946 -1.7988778 ]\n"
     ]
    }
   ],
   "source": [
    "import numpy as np \n",
    "\n",
    "samples1=np.random.randn(5)#to generate random numbers\n",
    "print(samples1)"
   ]
  },
  {
   "cell_type": "code",
   "execution_count": 18,
   "id": "76af1140",
   "metadata": {},
   "outputs": [
    {
     "data": {
      "text/plain": [
       "-0.19077415135430734"
      ]
     },
     "execution_count": 18,
     "metadata": {},
     "output_type": "execute_result"
    }
   ],
   "source": [
    "np.random.randn()#to generate single value"
   ]
  },
  {
   "cell_type": "code",
   "execution_count": 19,
   "id": "f54b7da9",
   "metadata": {},
   "outputs": [
    {
     "name": "stdout",
     "output_type": "stream",
     "text": [
      "[[ 0.77450746 -0.32888556  1.76097237]\n",
      " [-1.33004869 -1.05567283  0.05431667]]\n"
     ]
    }
   ],
   "source": [
    "smp=np.random.randn(2,3) #rows X columns\n",
    "print(smp)"
   ]
  },
  {
   "cell_type": "code",
   "execution_count": 20,
   "id": "1b661291",
   "metadata": {},
   "outputs": [
    {
     "name": "stdout",
     "output_type": "stream",
     "text": [
      "[[[ 0.95843496  0.89751732 -0.52748044]\n",
      "  [ 1.34624537 -0.75039322 -1.17670837]\n",
      "  [ 1.68078803  0.49215105 -1.47281114]]\n",
      "\n",
      " [[ 0.88632596 -0.80648216 -0.07503026]\n",
      "  [-2.72760782  0.27522102 -0.45091893]\n",
      "  [-0.22094746 -1.85109637 -0.03742306]]]\n"
     ]
    }
   ],
   "source": [
    "smp2=np.random.randn(2,3,3)#higher dimention\n",
    "print(smp2)"
   ]
  },
  {
   "cell_type": "markdown",
   "id": "d78da367",
   "metadata": {},
   "source": [
    "# Indexing and Slicing"
   ]
  },
  {
   "cell_type": "code",
   "execution_count": 21,
   "id": "0daf7c4d",
   "metadata": {},
   "outputs": [
    {
     "name": "stdout",
     "output_type": "stream",
     "text": [
      "[ 0  1  2  3  4  5  6  7  8  9 10 11 12 13 14 15 16 17 18 19]\n"
     ]
    }
   ],
   "source": [
    "array1=np.array(np.arange(20))\n",
    "print(array1)"
   ]
  },
  {
   "cell_type": "code",
   "execution_count": 22,
   "id": "8ebcc6dd",
   "metadata": {},
   "outputs": [
    {
     "data": {
      "text/plain": [
       "np.int64(2)"
      ]
     },
     "execution_count": 22,
     "metadata": {},
     "output_type": "execute_result"
    }
   ],
   "source": [
    "array1[2]#numpy create a view instead of a copy like list slicing"
   ]
  },
  {
   "cell_type": "code",
   "execution_count": 23,
   "id": "66809309",
   "metadata": {},
   "outputs": [
    {
     "data": {
      "text/plain": [
       "array([10, 11, 12, 13, 14, 15, 16, 17, 18, 19])"
      ]
     },
     "execution_count": 23,
     "metadata": {},
     "output_type": "execute_result"
    }
   ],
   "source": [
    "array1[10:20]"
   ]
  },
  {
   "cell_type": "code",
   "execution_count": 24,
   "id": "b194b461",
   "metadata": {},
   "outputs": [
    {
     "name": "stdout",
     "output_type": "stream",
     "text": [
      "9\n",
      "9\n"
     ]
    }
   ],
   "source": [
    "xy=[[1,2,3,4],[6,7,8,9]]\n",
    "arr1=np.array(xy)\n",
    "print(arr1[1][3])\n",
    "print(arr1[1,3])"
   ]
  },
  {
   "cell_type": "code",
   "execution_count": 25,
   "id": "dee9aa95",
   "metadata": {},
   "outputs": [
    {
     "name": "stdout",
     "output_type": "stream",
     "text": [
      "[4 9]\n",
      "[[2 3 4]\n",
      " [7 8 9]]\n",
      "[[1 2 3]\n",
      " [6 7 8]]\n"
     ]
    }
   ],
   "source": [
    "print(arr1[:2,3])\n",
    "print(arr1[:2,1:])\n",
    "print(arr1[:,0:3])"
   ]
  },
  {
   "cell_type": "markdown",
   "id": "ba8be708",
   "metadata": {},
   "source": [
    "# Boolean Indexing"
   ]
  },
  {
   "cell_type": "code",
   "execution_count": 26,
   "id": "d972df99",
   "metadata": {},
   "outputs": [
    {
     "name": "stdout",
     "output_type": "stream",
     "text": [
      "['Sun' 'Mon' 'Tue' 'Wed' 'Thu' 'Fri' 'Sat' 'Sun' 'Thu' 'Thu']\n"
     ]
    }
   ],
   "source": [
    "days=np.array(['Sun','Mon','Tue','Wed','Thu','Fri','Sat','Sun','Thu','Thu'])\n",
    "print(days)"
   ]
  },
  {
   "cell_type": "code",
   "execution_count": 27,
   "id": "fb1c7532",
   "metadata": {},
   "outputs": [
    {
     "name": "stdout",
     "output_type": "stream",
     "text": [
      "[[0.77662438 0.24594792 0.82798439 0.276611  ]\n",
      " [0.84091955 0.87631065 0.74650988 0.48762079]\n",
      " [0.46662126 0.77784678 0.78657952 0.55627401]\n",
      " [0.9930413  0.44683738 0.50560062 0.32438347]\n",
      " [0.20480903 0.44905396 0.74735705 0.99508855]\n",
      " [0.76507319 0.54397548 0.58720652 0.30401853]\n",
      " [0.56417483 0.79424033 0.04589833 0.34229277]\n",
      " [0.07719123 0.55883504 0.43142041 0.70387673]\n",
      " [0.63593094 0.06522496 0.47084293 0.32802332]\n",
      " [0.29391248 0.75250183 0.35712352 0.35002722]]\n"
     ]
    }
   ],
   "source": [
    "data=np.random.rand(10,4)\n",
    "print(data)"
   ]
  },
  {
   "cell_type": "code",
   "execution_count": 28,
   "id": "8735ec0b",
   "metadata": {},
   "outputs": [
    {
     "data": {
      "text/plain": [
       "array([ True, False, False, False, False, False, False,  True, False,\n",
       "       False])"
      ]
     },
     "execution_count": 28,
     "metadata": {},
     "output_type": "execute_result"
    }
   ],
   "source": [
    "days=='Sun'"
   ]
  },
  {
   "cell_type": "code",
   "execution_count": 29,
   "id": "36bd0824",
   "metadata": {},
   "outputs": [
    {
     "data": {
      "text/plain": [
       "array([[0.77662438, 0.24594792, 0.82798439, 0.276611  ],\n",
       "       [0.07719123, 0.55883504, 0.43142041, 0.70387673]])"
      ]
     },
     "execution_count": 29,
     "metadata": {},
     "output_type": "execute_result"
    }
   ],
   "source": [
    "data[days=='Sun'] # this gives position from source data 2nd and 8th row"
   ]
  },
  {
   "cell_type": "code",
   "execution_count": 30,
   "id": "ba0f9a1e",
   "metadata": {},
   "outputs": [
    {
     "data": {
      "text/plain": [
       "array([0.24594792, 0.55883504])"
      ]
     },
     "execution_count": 30,
     "metadata": {},
     "output_type": "execute_result"
    }
   ],
   "source": [
    "data[days=='Sun',1]"
   ]
  },
  {
   "cell_type": "code",
   "execution_count": 31,
   "id": "4f85d93b",
   "metadata": {},
   "outputs": [
    {
     "data": {
      "text/plain": [
       "array([False,  True,  True,  True,  True,  True,  True, False,  True,\n",
       "        True])"
      ]
     },
     "execution_count": 31,
     "metadata": {},
     "output_type": "execute_result"
    }
   ],
   "source": [
    "~(days=='Sun') #this sympol used to negate the condition"
   ]
  },
  {
   "cell_type": "code",
   "execution_count": 32,
   "id": "63475a86",
   "metadata": {},
   "outputs": [
    {
     "name": "stdout",
     "output_type": "stream",
     "text": [
      "[ True False False False  True False False  True  True  True]\n"
     ]
    }
   ],
   "source": [
    "mult_cond=(days=='Sun')|(days=='Thu') # | 'or' for multiple condition\n",
    "print(mult_cond)"
   ]
  },
  {
   "cell_type": "markdown",
   "id": "668664f5",
   "metadata": {},
   "source": [
    "# Mathematical and Statistical Method"
   ]
  },
  {
   "cell_type": "code",
   "execution_count": 33,
   "id": "d34f3748",
   "metadata": {},
   "outputs": [
    {
     "data": {
      "text/plain": [
       "array([[ 0.76937873,  0.27064293,  0.6448064 ],\n",
       "       [-0.63714254,  0.11944411,  1.76625579],\n",
       "       [-0.25489023, -0.12186327,  0.0897037 ],\n",
       "       [ 0.12364847,  1.23983852,  0.01937203],\n",
       "       [ 1.36531199,  0.50796917,  0.14726341],\n",
       "       [-0.26595234, -0.53948703,  0.69689362]])"
      ]
     },
     "execution_count": 33,
     "metadata": {},
     "output_type": "execute_result"
    }
   ],
   "source": [
    "data=np.random.randn(6,3)\n",
    "data"
   ]
  },
  {
   "cell_type": "code",
   "execution_count": 34,
   "id": "6bd13d26",
   "metadata": {},
   "outputs": [
    {
     "data": {
      "text/plain": [
       "np.float64(0.3300663035779864)"
      ]
     },
     "execution_count": 34,
     "metadata": {},
     "output_type": "execute_result"
    }
   ],
   "source": [
    "data.mean()"
   ]
  },
  {
   "cell_type": "code",
   "execution_count": 35,
   "id": "42fe4de0",
   "metadata": {},
   "outputs": [
    {
     "data": {
      "text/plain": [
       "np.float64(-0.6371425358368105)"
      ]
     },
     "execution_count": 35,
     "metadata": {},
     "output_type": "execute_result"
    }
   ],
   "source": [
    "data.min()"
   ]
  },
  {
   "cell_type": "code",
   "execution_count": 36,
   "id": "f990b566",
   "metadata": {},
   "outputs": [
    {
     "data": {
      "text/plain": [
       "np.float64(1.7662557898371645)"
      ]
     },
     "execution_count": 36,
     "metadata": {},
     "output_type": "execute_result"
    }
   ],
   "source": [
    "data.max()"
   ]
  },
  {
   "cell_type": "code",
   "execution_count": 37,
   "id": "c9dc7315",
   "metadata": {},
   "outputs": [
    {
     "data": {
      "text/plain": [
       "np.float64(5.941193464403755)"
      ]
     },
     "execution_count": 37,
     "metadata": {},
     "output_type": "execute_result"
    }
   ],
   "source": [
    "data.sum()"
   ]
  },
  {
   "cell_type": "code",
   "execution_count": 38,
   "id": "f8ff1eae",
   "metadata": {},
   "outputs": [
    {
     "data": {
      "text/plain": [
       "array([1.1003541 , 1.47654443, 3.36429494])"
      ]
     },
     "execution_count": 38,
     "metadata": {},
     "output_type": "execute_result"
    }
   ],
   "source": [
    "data.sum(axis=0) # 0 for row axix 1 for column axis"
   ]
  },
  {
   "cell_type": "code",
   "execution_count": 39,
   "id": "07c36fab",
   "metadata": {},
   "outputs": [
    {
     "data": {
      "text/plain": [
       "np.float64(1.1003540955899536)"
      ]
     },
     "execution_count": 39,
     "metadata": {},
     "output_type": "execute_result"
    }
   ],
   "source": [
    "data[:,0:1].sum()"
   ]
  },
  {
   "cell_type": "code",
   "execution_count": 40,
   "id": "e0cb7c4f",
   "metadata": {},
   "outputs": [
    {
     "data": {
      "text/plain": [
       "array([ 1.68482806,  1.24855736, -0.2870498 ,  1.38285902,  2.02054457,\n",
       "       -0.10854576])"
      ]
     },
     "execution_count": 40,
     "metadata": {},
     "output_type": "execute_result"
    }
   ],
   "source": [
    "data.sum(axis=1)"
   ]
  },
  {
   "cell_type": "code",
   "execution_count": 41,
   "id": "6945e09b",
   "metadata": {},
   "outputs": [
    {
     "data": {
      "text/plain": [
       "array([0, 1, 2, 3, 4])"
      ]
     },
     "execution_count": 41,
     "metadata": {},
     "output_type": "execute_result"
    }
   ],
   "source": [
    "values=np.arange(5)\n",
    "values"
   ]
  },
  {
   "cell_type": "code",
   "execution_count": 42,
   "id": "b528b7dd",
   "metadata": {},
   "outputs": [
    {
     "data": {
      "text/plain": [
       "array([ 0,  1,  3,  6, 10])"
      ]
     },
     "execution_count": 42,
     "metadata": {},
     "output_type": "execute_result"
    }
   ],
   "source": [
    "values.cumsum() # fibanacci series / cumulative sum"
   ]
  },
  {
   "cell_type": "code",
   "execution_count": 43,
   "id": "01483ac4",
   "metadata": {},
   "outputs": [
    {
     "data": {
      "text/plain": [
       "array([[ 1,  2,  3,  4],\n",
       "       [ 6,  7,  8,  9],\n",
       "       [11, 12, 13, 14]])"
      ]
     },
     "execution_count": 43,
     "metadata": {},
     "output_type": "execute_result"
    }
   ],
   "source": [
    "matrix_array=np.array([np.arange(1,5),np.arange(6,10),np.arange(11,15)])\n",
    "matrix_array"
   ]
  },
  {
   "cell_type": "code",
   "execution_count": 44,
   "id": "276cbc66",
   "metadata": {},
   "outputs": [
    {
     "data": {
      "text/plain": [
       "array([[ 1,  2,  3,  4],\n",
       "       [ 7,  9, 11, 13],\n",
       "       [18, 21, 24, 27]])"
      ]
     },
     "execution_count": 44,
     "metadata": {},
     "output_type": "execute_result"
    }
   ],
   "source": [
    "matrix_array.cumsum(axis=0)"
   ]
  },
  {
   "cell_type": "code",
   "execution_count": 45,
   "id": "970b1b7b",
   "metadata": {},
   "outputs": [
    {
     "data": {
      "text/plain": [
       "array([[    1,     2,     6,    24],\n",
       "       [    6,    42,   336,  3024],\n",
       "       [   11,   132,  1716, 24024]])"
      ]
     },
     "execution_count": 45,
     "metadata": {},
     "output_type": "execute_result"
    }
   ],
   "source": [
    "matrix_array.cumprod(axis=1)"
   ]
  },
  {
   "cell_type": "markdown",
   "id": "cf22b7f1",
   "metadata": {},
   "source": [
    "# Arithmetic opertaions"
   ]
  },
  {
   "cell_type": "code",
   "execution_count": 46,
   "id": "add1eca6",
   "metadata": {},
   "outputs": [
    {
     "data": {
      "text/plain": [
       "array([[1, 2, 3, 4],\n",
       "       [5, 6, 7, 8]])"
      ]
     },
     "execution_count": 46,
     "metadata": {},
     "output_type": "execute_result"
    }
   ],
   "source": [
    "data1=np.array([[1,2,3,4],[5,6,7,8]])\n",
    "data1"
   ]
  },
  {
   "cell_type": "code",
   "execution_count": 47,
   "id": "6f6bbd37",
   "metadata": {},
   "outputs": [
    {
     "data": {
      "text/plain": [
       "array([[ 1,  4,  9, 16],\n",
       "       [25, 36, 49, 64]])"
      ]
     },
     "execution_count": 47,
     "metadata": {},
     "output_type": "execute_result"
    }
   ],
   "source": [
    "data1*data1 #multiplication"
   ]
  },
  {
   "cell_type": "code",
   "execution_count": 48,
   "id": "a6fe23b6",
   "metadata": {},
   "outputs": [
    {
     "data": {
      "text/plain": [
       "array([[ 2,  4,  6,  8],\n",
       "       [10, 12, 14, 16]])"
      ]
     },
     "execution_count": 48,
     "metadata": {},
     "output_type": "execute_result"
    }
   ],
   "source": [
    "data1+data1 #addition"
   ]
  },
  {
   "cell_type": "code",
   "execution_count": 49,
   "id": "2ac8d95d",
   "metadata": {},
   "outputs": [
    {
     "data": {
      "text/plain": [
       "array([[ 3,  6,  9, 12],\n",
       "       [15, 18, 21, 24]])"
      ]
     },
     "execution_count": 49,
     "metadata": {},
     "output_type": "execute_result"
    }
   ],
   "source": [
    "data2=data1*3 #scalar multiplication\n",
    "data2"
   ]
  },
  {
   "cell_type": "code",
   "execution_count": 50,
   "id": "da281e10",
   "metadata": {},
   "outputs": [
    {
     "data": {
      "text/plain": [
       "array([[1.        , 0.5       , 0.33333333, 0.25      ],\n",
       "       [0.2       , 0.16666667, 0.14285714, 0.125     ]])"
      ]
     },
     "execution_count": 50,
     "metadata": {},
     "output_type": "execute_result"
    }
   ],
   "source": [
    "1/data1 #division"
   ]
  },
  {
   "cell_type": "code",
   "execution_count": 51,
   "id": "9c8414c8",
   "metadata": {},
   "outputs": [
    {
     "data": {
      "text/plain": [
       "array([[ 1,  4,  9, 16],\n",
       "       [25, 36, 49, 64]])"
      ]
     },
     "execution_count": 51,
     "metadata": {},
     "output_type": "execute_result"
    }
   ],
   "source": [
    "data1**(2) #square"
   ]
  },
  {
   "cell_type": "code",
   "execution_count": 52,
   "id": "f6c9db4d",
   "metadata": {},
   "outputs": [
    {
     "data": {
      "text/plain": [
       "array([[ 1,  2, 12, 14],\n",
       "       [10, 11, 10, 10]])"
      ]
     },
     "execution_count": 52,
     "metadata": {},
     "output_type": "execute_result"
    }
   ],
   "source": [
    "data3=np.array([[1,2,12,14],[10,11,10,10]])\n",
    "data3"
   ]
  },
  {
   "cell_type": "code",
   "execution_count": 53,
   "id": "26e736f7",
   "metadata": {},
   "outputs": [
    {
     "data": {
      "text/plain": [
       "array([[ True,  True, False, False],\n",
       "       [False, False, False, False]])"
      ]
     },
     "execution_count": 53,
     "metadata": {},
     "output_type": "execute_result"
    }
   ],
   "source": [
    "(data1>=data3) #chech each element comparison"
   ]
  },
  {
   "cell_type": "markdown",
   "id": "4de3126a",
   "metadata": {},
   "source": [
    "# Universal Functions"
   ]
  },
  {
   "cell_type": "code",
   "execution_count": 54,
   "id": "f38e72aa",
   "metadata": {},
   "outputs": [
    {
     "data": {
      "text/plain": [
       "array([0, 1, 2, 3, 4])"
      ]
     },
     "execution_count": 54,
     "metadata": {},
     "output_type": "execute_result"
    }
   ],
   "source": [
    "import numpy as np\n",
    "data=np.arange(5)\n",
    "data"
   ]
  },
  {
   "cell_type": "code",
   "execution_count": 55,
   "id": "24391ff1",
   "metadata": {},
   "outputs": [
    {
     "data": {
      "text/plain": [
       "array([0.        , 1.        , 1.41421356, 1.73205081, 2.        ])"
      ]
     },
     "execution_count": 55,
     "metadata": {},
     "output_type": "execute_result"
    }
   ],
   "source": [
    "np.sqrt(data) #square root"
   ]
  },
  {
   "cell_type": "code",
   "execution_count": 56,
   "id": "64497eeb",
   "metadata": {},
   "outputs": [
    {
     "data": {
      "text/plain": [
       "array([ 1.        ,  2.71828183,  7.3890561 , 20.08553692, 54.59815003])"
      ]
     },
     "execution_count": 56,
     "metadata": {},
     "output_type": "execute_result"
    }
   ],
   "source": [
    "np.exp(data)#exponential"
   ]
  },
  {
   "cell_type": "code",
   "execution_count": 57,
   "id": "8b7b1ab9",
   "metadata": {},
   "outputs": [
    {
     "data": {
      "text/plain": [
       "np.int64(4)"
      ]
     },
     "execution_count": 57,
     "metadata": {},
     "output_type": "execute_result"
    }
   ],
   "source": [
    "np.max(data)"
   ]
  },
  {
   "cell_type": "code",
   "execution_count": 58,
   "id": "24ca6be1",
   "metadata": {},
   "outputs": [
    {
     "data": {
      "text/plain": [
       "np.int64(0)"
      ]
     },
     "execution_count": 58,
     "metadata": {},
     "output_type": "execute_result"
    }
   ],
   "source": [
    "np.min(data)"
   ]
  },
  {
   "cell_type": "code",
   "execution_count": 59,
   "id": "f2b4d9b7",
   "metadata": {},
   "outputs": [
    {
     "data": {
      "text/plain": [
       "array([-0.86395467,  1.0151198 ,  1.85164743,  1.43361338, -0.91291998])"
      ]
     },
     "execution_count": 59,
     "metadata": {},
     "output_type": "execute_result"
    }
   ],
   "source": [
    "data1=np.random.randn(5)\n",
    "data1"
   ]
  },
  {
   "cell_type": "code",
   "execution_count": 60,
   "id": "7988740b",
   "metadata": {},
   "outputs": [
    {
     "data": {
      "text/plain": [
       "array([ 0.76812114, -2.85453907, -1.64318163,  0.56860386,  0.69700764])"
      ]
     },
     "execution_count": 60,
     "metadata": {},
     "output_type": "execute_result"
    }
   ],
   "source": [
    "data2=np.random.randn(5)\n",
    "data2"
   ]
  },
  {
   "cell_type": "code",
   "execution_count": 61,
   "id": "6cfe4200",
   "metadata": {},
   "outputs": [
    {
     "data": {
      "text/plain": [
       "array([0.76812114, 1.0151198 , 1.85164743, 1.43361338, 0.69700764])"
      ]
     },
     "execution_count": 61,
     "metadata": {},
     "output_type": "execute_result"
    }
   ],
   "source": [
    "np.maximum(data1,data2)"
   ]
  },
  {
   "cell_type": "code",
   "execution_count": 62,
   "id": "eb951f15",
   "metadata": {},
   "outputs": [
    {
     "data": {
      "text/plain": [
       "array([ 3.91468813,  6.66181768,  1.02029335, -3.4740325 ,  4.62036724,\n",
       "        2.87685197, -3.15367608, -6.35488915,  2.219692  ,  2.03667399])"
      ]
     },
     "execution_count": 62,
     "metadata": {},
     "output_type": "execute_result"
    }
   ],
   "source": [
    "data3=np.random.randn(10)*5\n",
    "data3"
   ]
  },
  {
   "cell_type": "code",
   "execution_count": 63,
   "id": "f0edd50f",
   "metadata": {},
   "outputs": [],
   "source": [
    "fractional,integral=np.modf(data3)"
   ]
  },
  {
   "cell_type": "code",
   "execution_count": 64,
   "id": "b9c521db",
   "metadata": {},
   "outputs": [
    {
     "data": {
      "text/plain": [
       "array([ 0.91468813,  0.66181768,  0.02029335, -0.4740325 ,  0.62036724,\n",
       "        0.87685197, -0.15367608, -0.35488915,  0.219692  ,  0.03667399])"
      ]
     },
     "execution_count": 64,
     "metadata": {},
     "output_type": "execute_result"
    }
   ],
   "source": [
    "fractional"
   ]
  },
  {
   "cell_type": "code",
   "execution_count": 65,
   "id": "5c2cc79f",
   "metadata": {},
   "outputs": [
    {
     "data": {
      "text/plain": [
       "array([ 3.,  6.,  1., -3.,  4.,  2., -3., -6.,  2.,  2.])"
      ]
     },
     "execution_count": 65,
     "metadata": {},
     "output_type": "execute_result"
    }
   ],
   "source": [
    "integral"
   ]
  },
  {
   "cell_type": "code",
   "execution_count": 66,
   "id": "67522273",
   "metadata": {},
   "outputs": [
    {
     "data": {
      "text/plain": [
       "array([1.97855708, 2.58104973, 1.01009572, 1.86387567, 2.14950395,\n",
       "       1.69612852, 1.77585925, 2.52089055, 1.48986308, 1.42712087])"
      ]
     },
     "execution_count": 66,
     "metadata": {},
     "output_type": "execute_result"
    }
   ],
   "source": [
    "np.sqrt(np.abs(data3))"
   ]
  },
  {
   "cell_type": "code",
   "execution_count": 67,
   "id": "805e4557",
   "metadata": {},
   "outputs": [
    {
     "data": {
      "text/plain": [
       "array([15.32478312, 44.37981486,  1.04099853, 12.0689018 , 21.3477934 ,\n",
       "        8.27627727,  9.94567281, 40.38461612,  4.92703255,  4.14804093])"
      ]
     },
     "execution_count": 67,
     "metadata": {},
     "output_type": "execute_result"
    }
   ],
   "source": [
    "np.square(data3)"
   ]
  },
  {
   "cell_type": "code",
   "execution_count": 68,
   "id": "7337d54a",
   "metadata": {},
   "outputs": [
    {
     "data": {
      "text/plain": [
       "array([ 4.,  7.,  1., -3.,  5.,  3., -3., -6.,  2.,  2.])"
      ]
     },
     "execution_count": 68,
     "metadata": {},
     "output_type": "execute_result"
    }
   ],
   "source": [
    "np.rint(data3) # round elements to nearest ineteger"
   ]
  },
  {
   "cell_type": "code",
   "execution_count": 69,
   "id": "1198f6b5",
   "metadata": {},
   "outputs": [
    {
     "data": {
      "text/plain": [
       "array([ 4.,  7.,  2., -3.,  5.,  3., -3., -6.,  3.,  3.])"
      ]
     },
     "execution_count": 69,
     "metadata": {},
     "output_type": "execute_result"
    }
   ],
   "source": [
    "np.ceil(data3) # compute ceiling of each elements"
   ]
  },
  {
   "cell_type": "code",
   "execution_count": 70,
   "id": "47288c54",
   "metadata": {},
   "outputs": [
    {
     "data": {
      "text/plain": [
       "array([[0, 1, 2, 3, 4],\n",
       "       [5, 6, 7, 8, 9]])"
      ]
     },
     "execution_count": 70,
     "metadata": {},
     "output_type": "execute_result"
    }
   ],
   "source": [
    "data4=np.arange(10).reshape(2,5)\n",
    "data4"
   ]
  },
  {
   "cell_type": "code",
   "execution_count": 71,
   "id": "0f4522a0",
   "metadata": {},
   "outputs": [
    {
     "data": {
      "text/plain": [
       "array([[ 5,  6,  7,  8,  9],\n",
       "       [10, 11, 12, 13, 14]])"
      ]
     },
     "execution_count": 71,
     "metadata": {},
     "output_type": "execute_result"
    }
   ],
   "source": [
    "data5=np.arange(5,15).reshape(2,5)\n",
    "data5"
   ]
  },
  {
   "cell_type": "code",
   "execution_count": 72,
   "id": "44ae30fd",
   "metadata": {},
   "outputs": [
    {
     "data": {
      "text/plain": [
       "array([[ 5,  7,  9, 11, 13],\n",
       "       [15, 17, 19, 21, 23]])"
      ]
     },
     "execution_count": 72,
     "metadata": {},
     "output_type": "execute_result"
    }
   ],
   "source": [
    "np.add(data4,data5)"
   ]
  },
  {
   "cell_type": "code",
   "execution_count": 73,
   "id": "4c8240ce",
   "metadata": {},
   "outputs": [
    {
     "data": {
      "text/plain": [
       "array([[5, 5, 5, 5, 5],\n",
       "       [5, 5, 5, 5, 5]])"
      ]
     },
     "execution_count": 73,
     "metadata": {},
     "output_type": "execute_result"
    }
   ],
   "source": [
    "np.subtract(data5,data4)"
   ]
  },
  {
   "cell_type": "code",
   "execution_count": 74,
   "id": "c13db052",
   "metadata": {},
   "outputs": [
    {
     "data": {
      "text/plain": [
       "array([[  0,   6,  14,  24,  36],\n",
       "       [ 50,  66,  84, 104, 126]])"
      ]
     },
     "execution_count": 74,
     "metadata": {},
     "output_type": "execute_result"
    }
   ],
   "source": [
    "np.multiply(data4,data5)"
   ]
  },
  {
   "cell_type": "code",
   "execution_count": 75,
   "id": "a787d62d",
   "metadata": {},
   "outputs": [
    {
     "data": {
      "text/plain": [
       "array([[0.        , 0.16666667, 0.28571429, 0.375     , 0.44444444],\n",
       "       [0.5       , 0.54545455, 0.58333333, 0.61538462, 0.64285714]])"
      ]
     },
     "execution_count": 75,
     "metadata": {},
     "output_type": "execute_result"
    }
   ],
   "source": [
    "np.divide(data4,data5)"
   ]
  },
  {
   "cell_type": "code",
   "execution_count": 76,
   "id": "f9c82837",
   "metadata": {},
   "outputs": [
    {
     "data": {
      "text/plain": [
       "array([[             0,              1,            128,           6561,\n",
       "                262144],\n",
       "       [       9765625,      362797056,    13841287201,   549755813888,\n",
       "        22876792454961]])"
      ]
     },
     "execution_count": 76,
     "metadata": {},
     "output_type": "execute_result"
    }
   ],
   "source": [
    "np.power(data4,data5) # powers first array elemnts by powering with second array elements as power"
   ]
  },
  {
   "cell_type": "code",
   "execution_count": 77,
   "id": "1ae30450",
   "metadata": {},
   "outputs": [
    {
     "data": {
      "text/plain": [
       "array([[False, False, False, False, False],\n",
       "       [False, False, False, False, False]])"
      ]
     },
     "execution_count": 77,
     "metadata": {},
     "output_type": "execute_result"
    }
   ],
   "source": [
    "np.greater(data4,data5)"
   ]
  },
  {
   "cell_type": "code",
   "execution_count": 78,
   "id": "69314034",
   "metadata": {},
   "outputs": [
    {
     "data": {
      "text/plain": [
       "array([[ True,  True,  True,  True,  True],\n",
       "       [ True,  True,  True,  True,  True]])"
      ]
     },
     "execution_count": 78,
     "metadata": {},
     "output_type": "execute_result"
    }
   ],
   "source": [
    "np.greater(data5,data4)"
   ]
  },
  {
   "cell_type": "markdown",
   "id": "a486a41f",
   "metadata": {},
   "source": [
    "# Conditional in Numpy\n"
   ]
  },
  {
   "cell_type": "code",
   "execution_count": 79,
   "id": "71aec55c",
   "metadata": {},
   "outputs": [],
   "source": [
    "import numpy as np"
   ]
  },
  {
   "cell_type": "code",
   "execution_count": 80,
   "id": "58d6ab6c",
   "metadata": {},
   "outputs": [
    {
     "data": {
      "text/plain": [
       "array([0, 1, 2, 3, 4])"
      ]
     },
     "execution_count": 80,
     "metadata": {},
     "output_type": "execute_result"
    }
   ],
   "source": [
    "data_x=np.array(np.arange(5))\n",
    "data_x"
   ]
  },
  {
   "cell_type": "code",
   "execution_count": 81,
   "id": "f39fd21a",
   "metadata": {},
   "outputs": [
    {
     "data": {
      "text/plain": [
       "array([5, 6, 7, 8, 9])"
      ]
     },
     "execution_count": 81,
     "metadata": {},
     "output_type": "execute_result"
    }
   ],
   "source": [
    "data_y=np.array(np.arange(5,10))\n",
    "data_y"
   ]
  },
  {
   "cell_type": "code",
   "execution_count": 82,
   "id": "e6d309e4",
   "metadata": {},
   "outputs": [],
   "source": [
    "cond=np.array([True,False,False,True,True])"
   ]
  },
  {
   "cell_type": "code",
   "execution_count": 83,
   "id": "fc5eddb2",
   "metadata": {},
   "outputs": [
    {
     "data": {
      "text/plain": [
       "[np.int64(0), np.int64(6), np.int64(7), np.int64(3), np.int64(4)]"
      ]
     },
     "execution_count": 83,
     "metadata": {},
     "output_type": "execute_result"
    }
   ],
   "source": [
    "result=[(x if c else y) for x,c,y in zip(data_x,cond,data_y) ]\n",
    "result"
   ]
  },
  {
   "cell_type": "code",
   "execution_count": 84,
   "id": "e32bde3b",
   "metadata": {},
   "outputs": [
    {
     "data": {
      "text/plain": [
       "[np.int64(0), np.int64(6), np.int64(7), np.int64(3), np.int64(4)]"
      ]
     },
     "execution_count": 84,
     "metadata": {},
     "output_type": "execute_result"
    }
   ],
   "source": [
    "result_where=np.where(cond,data_x,data_y) # we can use where instead of conditional list comprehension as mentioned above\n",
    "result"
   ]
  },
  {
   "cell_type": "code",
   "execution_count": 85,
   "id": "d28feb84",
   "metadata": {},
   "outputs": [
    {
     "data": {
      "text/plain": [
       "array([[-0.88545377, -0.76835391,  2.01595738,  0.76178396],\n",
       "       [-2.67540394,  1.47163426, -1.08019405,  0.03735577],\n",
       "       [ 0.4032964 ,  0.51736183, -3.05983706,  0.53133296],\n",
       "       [ 0.06682094,  0.08170348,  1.36786791,  1.13237963],\n",
       "       [-1.54186483, -0.65299401, -0.53920287,  0.95258514],\n",
       "       [ 0.15795085, -1.89917808, -0.49011021,  1.34559345],\n",
       "       [-0.10590574,  0.03908971, -1.93903409, -0.70861732],\n",
       "       [-0.80132369, -0.34805562, -0.29008428, -0.07229547],\n",
       "       [-1.54903118,  1.19301207,  0.19821184, -0.19935231],\n",
       "       [-1.29895644, -0.37924461,  0.16489696,  0.41592858]])"
      ]
     },
     "execution_count": 85,
     "metadata": {},
     "output_type": "execute_result"
    }
   ],
   "source": [
    "data_z=np.random.randn(10,4)\n",
    "data_z"
   ]
  },
  {
   "cell_type": "code",
   "execution_count": 86,
   "id": "65f43b8e",
   "metadata": {},
   "outputs": [
    {
     "data": {
      "text/plain": [
       "array([[-5, -5,  5,  5],\n",
       "       [-5,  5, -5,  5],\n",
       "       [ 5,  5, -5,  5],\n",
       "       [ 5,  5,  5,  5],\n",
       "       [-5, -5, -5,  5],\n",
       "       [ 5, -5, -5,  5],\n",
       "       [-5,  5, -5, -5],\n",
       "       [-5, -5, -5, -5],\n",
       "       [-5,  5,  5, -5],\n",
       "       [-5, -5,  5,  5]])"
      ]
     },
     "execution_count": 86,
     "metadata": {},
     "output_type": "execute_result"
    }
   ],
   "source": [
    "result_2=np.where(data_z>0,5,-5)\n",
    "result_2"
   ]
  },
  {
   "cell_type": "code",
   "execution_count": 87,
   "id": "7718f6a0",
   "metadata": {},
   "outputs": [
    {
     "data": {
      "text/plain": [
       "array([[-0.88545377, -0.76835391,  5.        ,  5.        ],\n",
       "       [-2.67540394,  5.        , -1.08019405,  5.        ],\n",
       "       [ 5.        ,  5.        , -3.05983706,  5.        ],\n",
       "       [ 5.        ,  5.        ,  5.        ,  5.        ],\n",
       "       [-1.54186483, -0.65299401, -0.53920287,  5.        ],\n",
       "       [ 5.        , -1.89917808, -0.49011021,  5.        ],\n",
       "       [-0.10590574,  5.        , -1.93903409, -0.70861732],\n",
       "       [-0.80132369, -0.34805562, -0.29008428, -0.07229547],\n",
       "       [-1.54903118,  5.        ,  5.        , -0.19935231],\n",
       "       [-1.29895644, -0.37924461,  5.        ,  5.        ]])"
      ]
     },
     "execution_count": 87,
     "metadata": {},
     "output_type": "execute_result"
    }
   ],
   "source": [
    "result_2=np.where(data_z>0,5,data_z)\n",
    "result_2"
   ]
  },
  {
   "cell_type": "markdown",
   "id": "87bd22da",
   "metadata": {},
   "source": [
    "# Sorting in Numpy"
   ]
  },
  {
   "cell_type": "code",
   "execution_count": 88,
   "id": "d53abefc",
   "metadata": {},
   "outputs": [],
   "source": [
    "import numpy as np"
   ]
  },
  {
   "cell_type": "code",
   "execution_count": 89,
   "id": "3df77964",
   "metadata": {},
   "outputs": [
    {
     "data": {
      "text/plain": [
       "array([ 2.21196914,  0.76592361, -0.61196758, -0.93871373,  0.45406211,\n",
       "        1.95819762,  0.55883303, -0.23728337,  0.2353059 ,  0.75086447])"
      ]
     },
     "execution_count": 89,
     "metadata": {},
     "output_type": "execute_result"
    }
   ],
   "source": [
    "data=np.random.randn(10)\n",
    "data"
   ]
  },
  {
   "cell_type": "code",
   "execution_count": 90,
   "id": "f489b90c",
   "metadata": {},
   "outputs": [
    {
     "data": {
      "text/plain": [
       "array([-0.93871373, -0.61196758, -0.23728337,  0.2353059 ,  0.45406211,\n",
       "        0.55883303,  0.75086447,  0.76592361,  1.95819762,  2.21196914])"
      ]
     },
     "execution_count": 90,
     "metadata": {},
     "output_type": "execute_result"
    }
   ],
   "source": [
    "data.sort()\n",
    "data  # this will sort inplace "
   ]
  },
  {
   "cell_type": "code",
   "execution_count": 91,
   "id": "50879d84",
   "metadata": {},
   "outputs": [
    {
     "data": {
      "text/plain": [
       "array([-0.93871373, -0.61196758, -0.23728337,  0.2353059 ,  0.45406211,\n",
       "        0.55883303,  0.75086447,  0.76592361,  1.95819762,  2.21196914])"
      ]
     },
     "execution_count": 91,
     "metadata": {},
     "output_type": "execute_result"
    }
   ],
   "source": [
    "np.sort(data) # this will retun a copy of array"
   ]
  },
  {
   "cell_type": "code",
   "execution_count": 92,
   "id": "ee327201",
   "metadata": {},
   "outputs": [
    {
     "data": {
      "text/plain": [
       "array([[ 0.17388322,  0.27897678, -0.26706888],\n",
       "       [-0.85562618,  0.00262033,  0.82583479],\n",
       "       [-1.56600659, -0.26800405,  0.43362242],\n",
       "       [ 1.27499572,  0.70057409,  0.36951226],\n",
       "       [-0.06273121, -0.70124295, -0.7920201 ],\n",
       "       [-0.65142808,  0.77023964,  1.29905724]])"
      ]
     },
     "execution_count": 92,
     "metadata": {},
     "output_type": "execute_result"
    }
   ],
   "source": [
    "matrix_data=np.random.randn(6,3)\n",
    "matrix_data"
   ]
  },
  {
   "cell_type": "code",
   "execution_count": 93,
   "id": "83345352",
   "metadata": {},
   "outputs": [
    {
     "data": {
      "text/plain": [
       "array([[-0.26706888,  0.17388322,  0.27897678],\n",
       "       [-0.85562618,  0.00262033,  0.82583479],\n",
       "       [-1.56600659, -0.26800405,  0.43362242],\n",
       "       [ 0.36951226,  0.70057409,  1.27499572],\n",
       "       [-0.7920201 , -0.70124295, -0.06273121],\n",
       "       [-0.65142808,  0.77023964,  1.29905724]])"
      ]
     },
     "execution_count": 93,
     "metadata": {},
     "output_type": "execute_result"
    }
   ],
   "source": [
    "matrix_data.sort(axis=1)\n",
    "matrix_data"
   ]
  },
  {
   "cell_type": "code",
   "execution_count": 94,
   "id": "43f74bc8",
   "metadata": {},
   "outputs": [
    {
     "data": {
      "text/plain": [
       "array([[-1.56600659, -0.70124295, -0.06273121],\n",
       "       [-0.85562618, -0.26800405,  0.27897678],\n",
       "       [-0.7920201 ,  0.00262033,  0.43362242],\n",
       "       [-0.65142808,  0.17388322,  0.82583479],\n",
       "       [-0.26706888,  0.70057409,  1.27499572],\n",
       "       [ 0.36951226,  0.77023964,  1.29905724]])"
      ]
     },
     "execution_count": 94,
     "metadata": {},
     "output_type": "execute_result"
    }
   ],
   "source": [
    "matrix_data.sort(axis=0)\n",
    "matrix_data"
   ]
  },
  {
   "cell_type": "code",
   "execution_count": null,
   "id": "0b6af89e",
   "metadata": {},
   "outputs": [],
   "source": []
  }
 ],
 "metadata": {
  "kernelspec": {
   "display_name": "exassaro",
   "language": "python",
   "name": "python3"
  },
  "language_info": {
   "codemirror_mode": {
    "name": "ipython",
    "version": 3
   },
   "file_extension": ".py",
   "mimetype": "text/x-python",
   "name": "python",
   "nbconvert_exporter": "python",
   "pygments_lexer": "ipython3",
   "version": "3.12.9"
  }
 },
 "nbformat": 4,
 "nbformat_minor": 5
}
