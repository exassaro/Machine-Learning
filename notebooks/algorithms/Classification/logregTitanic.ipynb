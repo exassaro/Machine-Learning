{
 "cells": [
  {
   "cell_type": "markdown",
   "id": "60c685d4",
   "metadata": {},
   "source": [
    "# Logistic regression"
   ]
  },
  {
   "cell_type": "markdown",
   "id": "72bbada7",
   "metadata": {},
   "source": [
    "### Titanic Dataset"
   ]
  },
  {
   "cell_type": "code",
   "execution_count": 2,
   "id": "6c47f963",
   "metadata": {},
   "outputs": [
    {
     "name": "stderr",
     "output_type": "stream",
     "text": [
      "C:\\Users\\USER\\AppData\\Local\\Temp\\ipykernel_11200\\1291338781.py:13: FutureWarning: A value is trying to be set on a copy of a DataFrame or Series through chained assignment using an inplace method.\n",
      "The behavior will change in pandas 3.0. This inplace method will never work because the intermediate object on which we are setting values always behaves as a copy.\n",
      "\n",
      "For example, when doing 'df[col].method(value, inplace=True)', try using 'df.method({col: value}, inplace=True)' or df[col] = df[col].method(value) instead, to perform the operation inplace on the original object.\n",
      "\n",
      "\n",
      "  titanic['age'].fillna(titanic['age'].median(),inplace=True)\n"
     ]
    },
    {
     "name": "stdout",
     "output_type": "stream",
     "text": [
      "Accuracy: 82.02%\n"
     ]
    },
    {
     "data": {
      "image/png": "[encoded data removed]",
      "text/plain": [
       "<Figure size 640x480 with 2 Axes>"
      ]
     },
     "metadata": {},
     "output_type": "display_data"
    },
    {
     "name": "stdout",
     "output_type": "stream",
     "text": [
      "              precision    recall  f1-score   support\n",
      "\n",
      "           0       0.83      0.88      0.85       107\n",
      "           1       0.80      0.73      0.76        71\n",
      "\n",
      "    accuracy                           0.82       178\n",
      "   macro avg       0.82      0.81      0.81       178\n",
      "weighted avg       0.82      0.82      0.82       178\n",
      "\n"
     ]
    }
   ],
   "source": [
    "import pandas as pd\n",
    "import numpy as np\n",
    "from sklearn.model_selection import train_test_split\n",
    "from sklearn.linear_model import LogisticRegression\n",
    "from sklearn.preprocessing import StandardScaler\n",
    "from sklearn.metrics import accuracy_score,confusion_matrix,classification_report\n",
    "import seaborn as sns\n",
    "import matplotlib.pyplot as plt\n",
    "\n",
    "\n",
    "titanic=sns.load_dataset('titanic')\n",
    "\n",
    "titanic['age'].fillna(titanic['age'].median(),inplace=True)\n",
    "titanic.dropna(subset=['embarked'],inplace=True)\n",
    "\n",
    "\n",
    "titanic['sex']=titanic['sex'].map({'male':0,'female':1})\n",
    "\n",
    "titanic=pd.get_dummies(titanic,columns=['embarked','pclass'],drop_first=True)\n",
    "\n",
    "\n",
    "X = titanic[['age', 'sibsp', 'parch', 'fare', 'sex', 'embarked_Q', 'embarked_S']]\n",
    "y=titanic['survived']\n",
    "\n",
    "scaler=StandardScaler()\n",
    "X_scaled=scaler.fit_transform(X)\n",
    "\n",
    "X_train,X_test,y_train,y_test=train_test_split(X_scaled,y,random_state=11,test_size=0.2)\n",
    "\n",
    "model=LogisticRegression()\n",
    "model.fit(X_train,y_train)\n",
    "\n",
    "y_pred=model.predict(X_test)\n",
    "\n",
    "\n",
    "\n",
    "accuracy=accuracy_score(y_pred,y_test)\n",
    "print(f\"Accuracy: {accuracy * 100:.2f}%\")\n",
    "\n",
    "\n",
    "conf_matrx=confusion_matrix(y_pred,y_test)\n",
    "sns.heatmap(conf_matrx,annot=True)\n",
    "plt.title(\"Confucion marix\")\n",
    "plt.show()\n",
    "\n",
    "print(classification_report(y_test,y_pred))\n",
    "\n",
    "\n"
   ]
  },
  {
   "cell_type": "markdown",
   "id": "e2185369",
   "metadata": {},
   "source": [
    "### Spam Classification"
   ]
  },
  {
   "cell_type": "code",
   "execution_count": 4,
   "id": "f67c0533",
   "metadata": {},
   "outputs": [
    {
     "data": {
      "text/html": [
       "<div>\n",
       "<style scoped>\n",
       "    .dataframe tbody tr th:only-of-type {\n",
       "        vertical-align: middle;\n",
       "    }\n",
       "\n",
       "    .dataframe tbody tr th {\n",
       "        vertical-align: top;\n",
       "    }\n",
       "\n",
       "    .dataframe thead th {\n",
       "        text-align: right;\n",
       "    }\n",
       "</style>\n",
       "<table border=\"1\" class=\"dataframe\">\n",
       "  <thead>\n",
       "    <tr style=\"text-align: right;\">\n",
       "      <th></th>\n",
       "      <th>text_col_1</th>\n",
       "      <th>text_col_2</th>\n",
       "      <th>text_col_3</th>\n",
       "      <th>label</th>\n",
       "      <th>combined_text</th>\n",
       "    </tr>\n",
       "  </thead>\n",
       "  <tbody>\n",
       "    <tr>\n",
       "      <th>0</th>\n",
       "      <td>meeting schedule schedule discussion review</td>\n",
       "      <td>update meeting report meeting schedule</td>\n",
       "      <td>client meeting project review client</td>\n",
       "      <td>not_spam</td>\n",
       "      <td>meeting schedule schedule discussion review up...</td>\n",
       "    </tr>\n",
       "    <tr>\n",
       "      <th>1</th>\n",
       "      <td>money prize offer prize urgent</td>\n",
       "      <td>win free limited win offer</td>\n",
       "      <td>offer prize urgent prize credit</td>\n",
       "      <td>spam</td>\n",
       "      <td>money prize offer prize urgent win free limite...</td>\n",
       "    </tr>\n",
       "    <tr>\n",
       "      <th>2</th>\n",
       "      <td>reminder team client update review</td>\n",
       "      <td>update client discussion meeting schedule</td>\n",
       "      <td>schedule meeting schedule project schedule</td>\n",
       "      <td>not_spam</td>\n",
       "      <td>reminder team client update review update clie...</td>\n",
       "    </tr>\n",
       "    <tr>\n",
       "      <th>3</th>\n",
       "      <td>team team schedule schedule reminder</td>\n",
       "      <td>review review project discussion project</td>\n",
       "      <td>team reminder review client review</td>\n",
       "      <td>not_spam</td>\n",
       "      <td>team team schedule schedule reminder review re...</td>\n",
       "    </tr>\n",
       "    <tr>\n",
       "      <th>4</th>\n",
       "      <td>discussion schedule meeting team schedule</td>\n",
       "      <td>schedule reminder update team review</td>\n",
       "      <td>team reminder report schedule schedule</td>\n",
       "      <td>not_spam</td>\n",
       "      <td>discussion schedule meeting team schedule sche...</td>\n",
       "    </tr>\n",
       "  </tbody>\n",
       "</table>\n",
       "</div>"
      ],
      "text/plain": [
       "                                    text_col_1  \\\n",
       "0  meeting schedule schedule discussion review   \n",
       "1               money prize offer prize urgent   \n",
       "2           reminder team client update review   \n",
       "3         team team schedule schedule reminder   \n",
       "4    discussion schedule meeting team schedule   \n",
       "\n",
       "                                  text_col_2  \\\n",
       "0     update meeting report meeting schedule   \n",
       "1                 win free limited win offer   \n",
       "2  update client discussion meeting schedule   \n",
       "3   review review project discussion project   \n",
       "4       schedule reminder update team review   \n",
       "\n",
       "                                   text_col_3     label  \\\n",
       "0        client meeting project review client  not_spam   \n",
       "1             offer prize urgent prize credit      spam   \n",
       "2  schedule meeting schedule project schedule  not_spam   \n",
       "3          team reminder review client review  not_spam   \n",
       "4      team reminder report schedule schedule  not_spam   \n",
       "\n",
       "                                       combined_text  \n",
       "0  meeting schedule schedule discussion review up...  \n",
       "1  money prize offer prize urgent win free limite...  \n",
       "2  reminder team client update review update clie...  \n",
       "3  team team schedule schedule reminder review re...  \n",
       "4  discussion schedule meeting team schedule sche...  "
      ]
     },
     "execution_count": 4,
     "metadata": {},
     "output_type": "execute_result"
    }
   ],
   "source": [
    "df_spam=pd.read_csv(\"datasets/spam_classification_3col.csv\")\n",
    "\n",
    "df_spam[\"combined_text\"]=df_spam[\"text_col_1\"] + \" \" + df_spam[\"text_col_2\"] + \" \" + df_spam[\"text_col_3\"]\n",
    "\n",
    "df_spam.head()"
   ]
  },
  {
   "cell_type": "code",
   "execution_count": 7,
   "id": "ed143b34",
   "metadata": {},
   "outputs": [
    {
     "name": "stdout",
     "output_type": "stream",
     "text": [
      "Accuracy: 1.0\n",
      "              precision    recall  f1-score   support\n",
      "\n",
      "    not_spam       1.00      1.00      1.00        30\n",
      "        spam       1.00      1.00      1.00        30\n",
      "\n",
      "    accuracy                           1.00        60\n",
      "   macro avg       1.00      1.00      1.00        60\n",
      "weighted avg       1.00      1.00      1.00        60\n",
      "\n"
     ]
    }
   ],
   "source": [
    "from sklearn.model_selection import train_test_split\n",
    "from sklearn.feature_extraction.text import TfidfVectorizer\n",
    "from sklearn.linear_model import LogisticRegression\n",
    "from sklearn.metrics import accuracy_score,classification_report\n",
    "\n",
    "\n",
    "\n",
    "\n",
    "# Split data\n",
    "X_train, X_test, y_train, y_test = train_test_split(\n",
    "    df_spam[\"combined_text\"], df_spam[\"label\"], \n",
    "    test_size=0.2, random_state=42, stratify=df_spam[\"label\"]\n",
    ")\n",
    "\n",
    "# Vectorize\n",
    "vectorizer = TfidfVectorizer()\n",
    "X_train_vec = vectorizer.fit_transform(X_train)\n",
    "X_test_vec = vectorizer.transform(X_test)\n",
    "\n",
    "# Train Logistic Regression\n",
    "clf = LogisticRegression(max_iter=1000)\n",
    "clf.fit(X_train_vec, y_train)\n",
    "\n",
    "# Evaluate\n",
    "y_pred = clf.predict(X_test_vec)\n",
    "print(\"Accuracy:\", accuracy_score(y_test, y_pred))\n",
    "\n",
    "print(classification_report(y_test, y_pred))\n"
   ]
  },
  {
   "cell_type": "code",
   "execution_count": null,
   "id": "4d31a7d8",
   "metadata": {},
   "outputs": [],
   "source": []
  }
 ],
 "metadata": {
  "kernelspec": {
   "display_name": "exassaro",
   "language": "python",
   "name": "python3"
  },
  "language_info": {
   "codemirror_mode": {
    "name": "ipython",
    "version": 3
   },
   "file_extension": ".py",
   "mimetype": "text/x-python",
   "name": "python",
   "nbconvert_exporter": "python",
   "pygments_lexer": "ipython3",
   "version": "3.12.9"
  }
 },
 "nbformat": 4,
 "nbformat_minor": 5
}
