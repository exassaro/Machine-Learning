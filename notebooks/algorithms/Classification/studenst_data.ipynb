{
 "cells": [
  {
   "cell_type": "code",
   "execution_count": null,
   "id": "074f3edd",
   "metadata": {},
   "outputs": [
    {
     "data": {
      "text/html": [
       "<div>\n",
       "<style scoped>\n",
       "    .dataframe tbody tr th:only-of-type {\n",
       "        vertical-align: middle;\n",
       "    }\n",
       "\n",
       "    .dataframe tbody tr th {\n",
       "        vertical-align: top;\n",
       "    }\n",
       "\n",
       "    .dataframe thead th {\n",
       "        text-align: right;\n",
       "    }\n",
       "</style>\n",
       "<table border=\"1\" class=\"dataframe\">\n",
       "  <thead>\n",
       "    <tr style=\"text-align: right;\">\n",
       "      <th></th>\n",
       "      <th>College_ID</th>\n",
       "      <th>IQ</th>\n",
       "      <th>Prev_Sem_Result</th>\n",
       "      <th>CGPA</th>\n",
       "      <th>Academic_Performance</th>\n",
       "      <th>Internship_Experience</th>\n",
       "      <th>Extra_Curricular_Score</th>\n",
       "      <th>Communication_Skills</th>\n",
       "      <th>Projects_Completed</th>\n",
       "      <th>Placement</th>\n",
       "    </tr>\n",
       "  </thead>\n",
       "  <tbody>\n",
       "    <tr>\n",
       "      <th>0</th>\n",
       "      <td>CLG0030</td>\n",
       "      <td>107</td>\n",
       "      <td>6.61</td>\n",
       "      <td>6.28</td>\n",
       "      <td>8</td>\n",
       "      <td>No</td>\n",
       "      <td>8</td>\n",
       "      <td>8</td>\n",
       "      <td>4</td>\n",
       "      <td>No</td>\n",
       "    </tr>\n",
       "    <tr>\n",
       "      <th>1</th>\n",
       "      <td>CLG0061</td>\n",
       "      <td>97</td>\n",
       "      <td>5.52</td>\n",
       "      <td>5.37</td>\n",
       "      <td>8</td>\n",
       "      <td>No</td>\n",
       "      <td>7</td>\n",
       "      <td>8</td>\n",
       "      <td>0</td>\n",
       "      <td>No</td>\n",
       "    </tr>\n",
       "    <tr>\n",
       "      <th>2</th>\n",
       "      <td>CLG0036</td>\n",
       "      <td>109</td>\n",
       "      <td>5.36</td>\n",
       "      <td>5.83</td>\n",
       "      <td>9</td>\n",
       "      <td>No</td>\n",
       "      <td>3</td>\n",
       "      <td>1</td>\n",
       "      <td>1</td>\n",
       "      <td>No</td>\n",
       "    </tr>\n",
       "    <tr>\n",
       "      <th>3</th>\n",
       "      <td>CLG0055</td>\n",
       "      <td>122</td>\n",
       "      <td>5.47</td>\n",
       "      <td>5.75</td>\n",
       "      <td>6</td>\n",
       "      <td>Yes</td>\n",
       "      <td>1</td>\n",
       "      <td>6</td>\n",
       "      <td>1</td>\n",
       "      <td>No</td>\n",
       "    </tr>\n",
       "    <tr>\n",
       "      <th>4</th>\n",
       "      <td>CLG0004</td>\n",
       "      <td>96</td>\n",
       "      <td>7.91</td>\n",
       "      <td>7.69</td>\n",
       "      <td>7</td>\n",
       "      <td>No</td>\n",
       "      <td>8</td>\n",
       "      <td>10</td>\n",
       "      <td>2</td>\n",
       "      <td>No</td>\n",
       "    </tr>\n",
       "  </tbody>\n",
       "</table>\n",
       "</div>"
      ],
      "text/plain": [
       "  College_ID   IQ  Prev_Sem_Result  CGPA  Academic_Performance  \\\n",
       "0    CLG0030  107             6.61  6.28                     8   \n",
       "1    CLG0061   97             5.52  5.37                     8   \n",
       "2    CLG0036  109             5.36  5.83                     9   \n",
       "3    CLG0055  122             5.47  5.75                     6   \n",
       "4    CLG0004   96             7.91  7.69                     7   \n",
       "\n",
       "  Internship_Experience  Extra_Curricular_Score  Communication_Skills  \\\n",
       "0                    No                       8                     8   \n",
       "1                    No                       7                     8   \n",
       "2                    No                       3                     1   \n",
       "3                   Yes                       1                     6   \n",
       "4                    No                       8                    10   \n",
       "\n",
       "   Projects_Completed Placement  \n",
       "0                   4        No  \n",
       "1                   0        No  \n",
       "2                   1        No  \n",
       "3                   1        No  \n",
       "4                   2        No  "
      ]
     },
     "execution_count": 29,
     "metadata": {},
     "output_type": "execute_result"
    }
   ],
   "source": [
    "import pandas as pd\n",
    "\n",
    "df=pd.read_csv('C:/Users/USER/Documents/Github/Machine Learning/datasets/college_student_placement_dataset.csv')\n",
    "\n",
    "df.head()"
   ]
  },
  {
   "cell_type": "code",
   "execution_count": 30,
   "id": "3013fc55",
   "metadata": {},
   "outputs": [
    {
     "data": {
      "text/html": [
       "<div>\n",
       "<style scoped>\n",
       "    .dataframe tbody tr th:only-of-type {\n",
       "        vertical-align: middle;\n",
       "    }\n",
       "\n",
       "    .dataframe tbody tr th {\n",
       "        vertical-align: top;\n",
       "    }\n",
       "\n",
       "    .dataframe thead th {\n",
       "        text-align: right;\n",
       "    }\n",
       "</style>\n",
       "<table border=\"1\" class=\"dataframe\">\n",
       "  <thead>\n",
       "    <tr style=\"text-align: right;\">\n",
       "      <th></th>\n",
       "      <th>IQ</th>\n",
       "      <th>Prev_Sem_Result</th>\n",
       "      <th>CGPA</th>\n",
       "      <th>Academic_Performance</th>\n",
       "      <th>Extra_Curricular_Score</th>\n",
       "      <th>Communication_Skills</th>\n",
       "      <th>Projects_Completed</th>\n",
       "    </tr>\n",
       "  </thead>\n",
       "  <tbody>\n",
       "    <tr>\n",
       "      <th>count</th>\n",
       "      <td>10000.000000</td>\n",
       "      <td>10000.000000</td>\n",
       "      <td>10000.000000</td>\n",
       "      <td>10000.000000</td>\n",
       "      <td>10000.000000</td>\n",
       "      <td>10000.000000</td>\n",
       "      <td>10000.000000</td>\n",
       "    </tr>\n",
       "    <tr>\n",
       "      <th>mean</th>\n",
       "      <td>99.471800</td>\n",
       "      <td>7.535673</td>\n",
       "      <td>7.532379</td>\n",
       "      <td>5.546400</td>\n",
       "      <td>4.970900</td>\n",
       "      <td>5.561800</td>\n",
       "      <td>2.513400</td>\n",
       "    </tr>\n",
       "    <tr>\n",
       "      <th>std</th>\n",
       "      <td>15.053101</td>\n",
       "      <td>1.447519</td>\n",
       "      <td>1.470141</td>\n",
       "      <td>2.873477</td>\n",
       "      <td>3.160103</td>\n",
       "      <td>2.900866</td>\n",
       "      <td>1.715959</td>\n",
       "    </tr>\n",
       "    <tr>\n",
       "      <th>min</th>\n",
       "      <td>41.000000</td>\n",
       "      <td>5.000000</td>\n",
       "      <td>4.540000</td>\n",
       "      <td>1.000000</td>\n",
       "      <td>0.000000</td>\n",
       "      <td>1.000000</td>\n",
       "      <td>0.000000</td>\n",
       "    </tr>\n",
       "    <tr>\n",
       "      <th>25%</th>\n",
       "      <td>89.000000</td>\n",
       "      <td>6.290000</td>\n",
       "      <td>6.290000</td>\n",
       "      <td>3.000000</td>\n",
       "      <td>2.000000</td>\n",
       "      <td>3.000000</td>\n",
       "      <td>1.000000</td>\n",
       "    </tr>\n",
       "    <tr>\n",
       "      <th>50%</th>\n",
       "      <td>99.000000</td>\n",
       "      <td>7.560000</td>\n",
       "      <td>7.550000</td>\n",
       "      <td>6.000000</td>\n",
       "      <td>5.000000</td>\n",
       "      <td>6.000000</td>\n",
       "      <td>3.000000</td>\n",
       "    </tr>\n",
       "    <tr>\n",
       "      <th>75%</th>\n",
       "      <td>110.000000</td>\n",
       "      <td>8.790000</td>\n",
       "      <td>8.770000</td>\n",
       "      <td>8.000000</td>\n",
       "      <td>8.000000</td>\n",
       "      <td>8.000000</td>\n",
       "      <td>4.000000</td>\n",
       "    </tr>\n",
       "    <tr>\n",
       "      <th>max</th>\n",
       "      <td>158.000000</td>\n",
       "      <td>10.000000</td>\n",
       "      <td>10.460000</td>\n",
       "      <td>10.000000</td>\n",
       "      <td>10.000000</td>\n",
       "      <td>10.000000</td>\n",
       "      <td>5.000000</td>\n",
       "    </tr>\n",
       "  </tbody>\n",
       "</table>\n",
       "</div>"
      ],
      "text/plain": [
       "                 IQ  Prev_Sem_Result          CGPA  Academic_Performance  \\\n",
       "count  10000.000000     10000.000000  10000.000000          10000.000000   \n",
       "mean      99.471800         7.535673      7.532379              5.546400   \n",
       "std       15.053101         1.447519      1.470141              2.873477   \n",
       "min       41.000000         5.000000      4.540000              1.000000   \n",
       "25%       89.000000         6.290000      6.290000              3.000000   \n",
       "50%       99.000000         7.560000      7.550000              6.000000   \n",
       "75%      110.000000         8.790000      8.770000              8.000000   \n",
       "max      158.000000        10.000000     10.460000             10.000000   \n",
       "\n",
       "       Extra_Curricular_Score  Communication_Skills  Projects_Completed  \n",
       "count            10000.000000          10000.000000        10000.000000  \n",
       "mean                 4.970900              5.561800            2.513400  \n",
       "std                  3.160103              2.900866            1.715959  \n",
       "min                  0.000000              1.000000            0.000000  \n",
       "25%                  2.000000              3.000000            1.000000  \n",
       "50%                  5.000000              6.000000            3.000000  \n",
       "75%                  8.000000              8.000000            4.000000  \n",
       "max                 10.000000             10.000000            5.000000  "
      ]
     },
     "execution_count": 30,
     "metadata": {},
     "output_type": "execute_result"
    }
   ],
   "source": [
    "df.describe()"
   ]
  },
  {
   "cell_type": "code",
   "execution_count": 31,
   "id": "62fcc6f5",
   "metadata": {},
   "outputs": [
    {
     "name": "stdout",
     "output_type": "stream",
     "text": [
      "<class 'pandas.core.frame.DataFrame'>\n",
      "RangeIndex: 10000 entries, 0 to 9999\n",
      "Data columns (total 10 columns):\n",
      " #   Column                  Non-Null Count  Dtype  \n",
      "---  ------                  --------------  -----  \n",
      " 0   College_ID              10000 non-null  object \n",
      " 1   IQ                      10000 non-null  int64  \n",
      " 2   Prev_Sem_Result         10000 non-null  float64\n",
      " 3   CGPA                    10000 non-null  float64\n",
      " 4   Academic_Performance    10000 non-null  int64  \n",
      " 5   Internship_Experience   10000 non-null  object \n",
      " 6   Extra_Curricular_Score  10000 non-null  int64  \n",
      " 7   Communication_Skills    10000 non-null  int64  \n",
      " 8   Projects_Completed      10000 non-null  int64  \n",
      " 9   Placement               10000 non-null  object \n",
      "dtypes: float64(2), int64(5), object(3)\n",
      "memory usage: 781.4+ KB\n"
     ]
    }
   ],
   "source": [
    "df.info()"
   ]
  },
  {
   "cell_type": "code",
   "execution_count": 32,
   "id": "589c01fa",
   "metadata": {},
   "outputs": [
    {
     "data": {
      "text/plain": [
       "College_ID                 object\n",
       "IQ                          int64\n",
       "Prev_Sem_Result           float64\n",
       "CGPA                      float64\n",
       "Academic_Performance        int64\n",
       "Internship_Experience      object\n",
       "Extra_Curricular_Score      int64\n",
       "Communication_Skills        int64\n",
       "Projects_Completed          int64\n",
       "Placement                  object\n",
       "dtype: object"
      ]
     },
     "execution_count": 32,
     "metadata": {},
     "output_type": "execute_result"
    }
   ],
   "source": [
    "df.dtypes"
   ]
  },
  {
   "cell_type": "code",
   "execution_count": 33,
   "id": "655ae79d",
   "metadata": {},
   "outputs": [
    {
     "data": {
      "text/plain": [
       "College_ID                0\n",
       "IQ                        0\n",
       "Prev_Sem_Result           0\n",
       "CGPA                      0\n",
       "Academic_Performance      0\n",
       "Internship_Experience     0\n",
       "Extra_Curricular_Score    0\n",
       "Communication_Skills      0\n",
       "Projects_Completed        0\n",
       "Placement                 0\n",
       "dtype: int64"
      ]
     },
     "execution_count": 33,
     "metadata": {},
     "output_type": "execute_result"
    }
   ],
   "source": [
    "df.isnull().sum()"
   ]
  },
  {
   "cell_type": "code",
   "execution_count": 34,
   "id": "39a25079",
   "metadata": {},
   "outputs": [
    {
     "data": {
      "text/plain": [
       "Index(['College_ID', 'IQ', 'Prev_Sem_Result', 'CGPA', 'Academic_Performance',\n",
       "       'Internship_Experience', 'Extra_Curricular_Score',\n",
       "       'Communication_Skills', 'Projects_Completed', 'Placement'],\n",
       "      dtype='object')"
      ]
     },
     "execution_count": 34,
     "metadata": {},
     "output_type": "execute_result"
    }
   ],
   "source": [
    "df.columns"
   ]
  },
  {
   "cell_type": "code",
   "execution_count": 35,
   "id": "db1aa5ee",
   "metadata": {},
   "outputs": [],
   "source": [
    "from sklearn.preprocessing import StandardScaler\n",
    "\n",
    "scaler=StandardScaler()\n",
    "\n",
    "df['scaled_IQ']=scaler.fit_transform(df[['IQ']])"
   ]
  },
  {
   "cell_type": "code",
   "execution_count": 36,
   "id": "9723f8b3",
   "metadata": {},
   "outputs": [
    {
     "data": {
      "text/html": [
       "<div>\n",
       "<style scoped>\n",
       "    .dataframe tbody tr th:only-of-type {\n",
       "        vertical-align: middle;\n",
       "    }\n",
       "\n",
       "    .dataframe tbody tr th {\n",
       "        vertical-align: top;\n",
       "    }\n",
       "\n",
       "    .dataframe thead th {\n",
       "        text-align: right;\n",
       "    }\n",
       "</style>\n",
       "<table border=\"1\" class=\"dataframe\">\n",
       "  <thead>\n",
       "    <tr style=\"text-align: right;\">\n",
       "      <th></th>\n",
       "      <th>College_ID</th>\n",
       "      <th>IQ</th>\n",
       "      <th>Prev_Sem_Result</th>\n",
       "      <th>CGPA</th>\n",
       "      <th>Academic_Performance</th>\n",
       "      <th>Internship_Experience</th>\n",
       "      <th>Extra_Curricular_Score</th>\n",
       "      <th>Communication_Skills</th>\n",
       "      <th>Projects_Completed</th>\n",
       "      <th>Placement</th>\n",
       "      <th>scaled_IQ</th>\n",
       "    </tr>\n",
       "  </thead>\n",
       "  <tbody>\n",
       "    <tr>\n",
       "      <th>0</th>\n",
       "      <td>CLG0030</td>\n",
       "      <td>107</td>\n",
       "      <td>6.61</td>\n",
       "      <td>6.28</td>\n",
       "      <td>8</td>\n",
       "      <td>No</td>\n",
       "      <td>8</td>\n",
       "      <td>8</td>\n",
       "      <td>4</td>\n",
       "      <td>No</td>\n",
       "      <td>0.500135</td>\n",
       "    </tr>\n",
       "    <tr>\n",
       "      <th>1</th>\n",
       "      <td>CLG0061</td>\n",
       "      <td>97</td>\n",
       "      <td>5.52</td>\n",
       "      <td>5.37</td>\n",
       "      <td>8</td>\n",
       "      <td>No</td>\n",
       "      <td>7</td>\n",
       "      <td>8</td>\n",
       "      <td>0</td>\n",
       "      <td>No</td>\n",
       "      <td>-0.164214</td>\n",
       "    </tr>\n",
       "    <tr>\n",
       "      <th>2</th>\n",
       "      <td>CLG0036</td>\n",
       "      <td>109</td>\n",
       "      <td>5.36</td>\n",
       "      <td>5.83</td>\n",
       "      <td>9</td>\n",
       "      <td>No</td>\n",
       "      <td>3</td>\n",
       "      <td>1</td>\n",
       "      <td>1</td>\n",
       "      <td>No</td>\n",
       "      <td>0.633004</td>\n",
       "    </tr>\n",
       "    <tr>\n",
       "      <th>3</th>\n",
       "      <td>CLG0055</td>\n",
       "      <td>122</td>\n",
       "      <td>5.47</td>\n",
       "      <td>5.75</td>\n",
       "      <td>6</td>\n",
       "      <td>Yes</td>\n",
       "      <td>1</td>\n",
       "      <td>6</td>\n",
       "      <td>1</td>\n",
       "      <td>No</td>\n",
       "      <td>1.496657</td>\n",
       "    </tr>\n",
       "    <tr>\n",
       "      <th>4</th>\n",
       "      <td>CLG0004</td>\n",
       "      <td>96</td>\n",
       "      <td>7.91</td>\n",
       "      <td>7.69</td>\n",
       "      <td>7</td>\n",
       "      <td>No</td>\n",
       "      <td>8</td>\n",
       "      <td>10</td>\n",
       "      <td>2</td>\n",
       "      <td>No</td>\n",
       "      <td>-0.230648</td>\n",
       "    </tr>\n",
       "  </tbody>\n",
       "</table>\n",
       "</div>"
      ],
      "text/plain": [
       "  College_ID   IQ  Prev_Sem_Result  CGPA  Academic_Performance  \\\n",
       "0    CLG0030  107             6.61  6.28                     8   \n",
       "1    CLG0061   97             5.52  5.37                     8   \n",
       "2    CLG0036  109             5.36  5.83                     9   \n",
       "3    CLG0055  122             5.47  5.75                     6   \n",
       "4    CLG0004   96             7.91  7.69                     7   \n",
       "\n",
       "  Internship_Experience  Extra_Curricular_Score  Communication_Skills  \\\n",
       "0                    No                       8                     8   \n",
       "1                    No                       7                     8   \n",
       "2                    No                       3                     1   \n",
       "3                   Yes                       1                     6   \n",
       "4                    No                       8                    10   \n",
       "\n",
       "   Projects_Completed Placement  scaled_IQ  \n",
       "0                   4        No   0.500135  \n",
       "1                   0        No  -0.164214  \n",
       "2                   1        No   0.633004  \n",
       "3                   1        No   1.496657  \n",
       "4                   2        No  -0.230648  "
      ]
     },
     "execution_count": 36,
     "metadata": {},
     "output_type": "execute_result"
    }
   ],
   "source": [
    "df.head()"
   ]
  },
  {
   "cell_type": "code",
   "execution_count": null,
   "id": "f7a1423c",
   "metadata": {},
   "outputs": [
    {
     "name": "stdout",
     "output_type": "stream",
     "text": [
      "Index(['Prev_Sem_Result', 'CGPA', 'Academic_Performance',\n",
      "       'Communication_Skills', 'Projects_Completed'],\n",
      "      dtype='object')\n",
      "                  Feature     Score\n",
      "3    Academic_Performance  9.987957\n",
      "5    Communication_Skills  6.318638\n",
      "6      Projects_Completed  1.233217\n",
      "1         Prev_Sem_Result  0.495266\n",
      "2                    CGPA  0.452744\n",
      "4  Extra_Curricular_Score  0.088003\n",
      "0                      IQ  0.001394\n"
     ]
    }
   ],
   "source": [
    "X=df.select_dtypes(include='number').drop(['scaled_IQ'],axis=1)\n",
    "y=df['Internship_Experience']\n",
    "\n",
    "\n",
    "from sklearn.feature_selection import SelectKBest,chi2\n",
    "selector=SelectKBest(score_func=chi2,k=5)\n",
    "\n",
    "selected=selector.fit_transform(X,y)\n",
    "\n",
    "result=X.columns[selector.get_support()]\n",
    "\n",
    "print(result)\n",
    "\n",
    "\n",
    "feature_scores = pd.DataFrame({\n",
    "    'Feature': X.columns,\n",
    "    'Score': selector.scores_\n",
    "}).sort_values(by='Score', ascending=False)\n",
    "\n",
    "print(feature_scores)"
   ]
  },
  {
   "cell_type": "code",
   "execution_count": 42,
   "id": "1bf1718b",
   "metadata": {},
   "outputs": [
    {
     "name": "stdout",
     "output_type": "stream",
     "text": [
      "['Prev_Sem_Result', 'CGPA', 'Academic_Performance', 'Communication_Skills', 'Projects_Completed']\n"
     ]
    }
   ],
   "source": [
    "from sklearn.feature_selection import RFE\n",
    "from sklearn.linear_model import LogisticRegression\n",
    "\n",
    "model=LogisticRegression(max_iter=1000)\n",
    "rfe=RFE(estimator=model,n_features_to_select=5)\n",
    "rfe.fit(X,y)\n",
    "\n",
    "selected_rfe=X.columns[rfe.support_]\n",
    "\n",
    "print(list(selected_rfe))\n"
   ]
  },
  {
   "cell_type": "code",
   "execution_count": 49,
   "id": "d157e574",
   "metadata": {},
   "outputs": [
    {
     "name": "stdout",
     "output_type": "stream",
     "text": [
      "['IQ', 'Prev_Sem_Result', 'CGPA', 'Extra_Curricular_Score']\n"
     ]
    }
   ],
   "source": [
    "from sklearn.ensemble import RandomForestClassifier\n",
    "from sklearn.preprocessing import LabelEncoder\n",
    "\n",
    "le = LabelEncoder()\n",
    "y_encoded = le.fit_transform(y)\n",
    "\n",
    "rf=RandomForestClassifier()\n",
    "rf.fit(X,y_encoded)\n",
    "\n",
    "importance=rf.feature_importances_\n",
    "\n",
    "important_features=X.columns[importance>0.1]\n",
    "print(list(important_features))"
   ]
  },
  {
   "cell_type": "code",
   "execution_count": 58,
   "id": "cda997e9",
   "metadata": {},
   "outputs": [
    {
     "name": "stdout",
     "output_type": "stream",
     "text": [
      "[[604 575]\n",
      " [394 427]]\n",
      "0.5200974421437271\n"
     ]
    }
   ],
   "source": [
    "from sklearn.model_selection import train_test_split\n",
    "from sklearn.metrics import confusion_matrix,recall_score\n",
    "from sklearn.linear_model import LogisticRegression\n",
    "\n",
    "X_train,X_test,y_train,y_test=train_test_split(X,y_encoded,test_size=0.2,random_state=44)\n",
    "\n",
    "model=LogisticRegression(class_weight='balanced')\n",
    "\n",
    "model.fit(X_train,y_train)\n",
    "\n",
    "y_pred=model.predict(X_test)\n",
    "\n",
    "result1=confusion_matrix(y_test,y_pred)\n",
    "result2=recall_score(y_test,y_pred)\n",
    "\n",
    "print(result1)\n",
    "print(result2)"
   ]
  },
  {
   "cell_type": "code",
   "execution_count": 57,
   "id": "1296a96c",
   "metadata": {},
   "outputs": [
    {
     "name": "stdout",
     "output_type": "stream",
     "text": [
      "(array([0, 1]), array([6036, 3964]))\n"
     ]
    }
   ],
   "source": [
    "import numpy as np\n",
    "print(np.unique(y_encoded, return_counts=True))\n"
   ]
  },
  {
   "cell_type": "code",
   "execution_count": 59,
   "id": "d312df9f",
   "metadata": {},
   "outputs": [
    {
     "name": "stdout",
     "output_type": "stream",
     "text": [
      "🔍 Naive Bayes Results\n",
      "Confusion Matrix:\n",
      " [[1179    0]\n",
      " [ 821    0]]\n",
      "Recall Score: 0.0\n",
      "Accuracy Score: 0.5895\n",
      "\n",
      "Classification Report:\n",
      "               precision    recall  f1-score   support\n",
      "\n",
      "           0       0.59      1.00      0.74      1179\n",
      "           1       0.00      0.00      0.00       821\n",
      "\n",
      "    accuracy                           0.59      2000\n",
      "   macro avg       0.29      0.50      0.37      2000\n",
      "weighted avg       0.35      0.59      0.44      2000\n",
      "\n"
     ]
    },
    {
     "name": "stderr",
     "output_type": "stream",
     "text": [
      "c:\\ProgramData\\anaconda3\\envs\\exassaro\\Lib\\site-packages\\sklearn\\metrics\\_classification.py:1565: UndefinedMetricWarning: Precision is ill-defined and being set to 0.0 in labels with no predicted samples. Use `zero_division` parameter to control this behavior.\n",
      "  _warn_prf(average, modifier, f\"{metric.capitalize()} is\", len(result))\n",
      "c:\\ProgramData\\anaconda3\\envs\\exassaro\\Lib\\site-packages\\sklearn\\metrics\\_classification.py:1565: UndefinedMetricWarning: Precision is ill-defined and being set to 0.0 in labels with no predicted samples. Use `zero_division` parameter to control this behavior.\n",
      "  _warn_prf(average, modifier, f\"{metric.capitalize()} is\", len(result))\n",
      "c:\\ProgramData\\anaconda3\\envs\\exassaro\\Lib\\site-packages\\sklearn\\metrics\\_classification.py:1565: UndefinedMetricWarning: Precision is ill-defined and being set to 0.0 in labels with no predicted samples. Use `zero_division` parameter to control this behavior.\n",
      "  _warn_prf(average, modifier, f\"{metric.capitalize()} is\", len(result))\n"
     ]
    }
   ],
   "source": [
    "from sklearn.naive_bayes import GaussianNB\n",
    "from sklearn.metrics import confusion_matrix, recall_score, accuracy_score, classification_report\n",
    "\n",
    "# Initialize the model\n",
    "nb_model = GaussianNB()\n",
    "\n",
    "# Fit the model\n",
    "nb_model.fit(X_train, y_train)\n",
    "\n",
    "# Predict\n",
    "y_pred_nb = nb_model.predict(X_test)\n",
    "\n",
    "# Evaluation\n",
    "cm = confusion_matrix(y_test, y_pred_nb)\n",
    "recall = recall_score(y_test, y_pred_nb)\n",
    "accuracy = accuracy_score(y_test, y_pred_nb)\n",
    "\n",
    "print(\"🔍 Naive Bayes Results\")\n",
    "print(\"Confusion Matrix:\\n\", cm)\n",
    "print(\"Recall Score:\", recall)\n",
    "print(\"Accuracy Score:\", accuracy)\n",
    "print(\"\\nClassification Report:\\n\", classification_report(y_test, y_pred_nb))\n"
   ]
  },
  {
   "cell_type": "code",
   "execution_count": 60,
   "id": "fb6d3ee6",
   "metadata": {},
   "outputs": [
    {
     "name": "stdout",
     "output_type": "stream",
     "text": [
      "🔍 K-Nearest Neighbors Results\n",
      "Confusion Matrix:\n",
      " [[837 342]\n",
      " [585 236]]\n",
      "Recall Score: 0.2874543239951279\n",
      "Accuracy Score: 0.5365\n",
      "\n",
      "Classification Report:\n",
      "               precision    recall  f1-score   support\n",
      "\n",
      "           0       0.59      0.71      0.64      1179\n",
      "           1       0.41      0.29      0.34       821\n",
      "\n",
      "    accuracy                           0.54      2000\n",
      "   macro avg       0.50      0.50      0.49      2000\n",
      "weighted avg       0.51      0.54      0.52      2000\n",
      "\n"
     ]
    }
   ],
   "source": [
    "from sklearn.neighbors import KNeighborsClassifier\n",
    "from sklearn.metrics import confusion_matrix, recall_score, accuracy_score, classification_report\n",
    "\n",
    "# Initialize the model (you can change n_neighbors to tune)\n",
    "knn_model = KNeighborsClassifier(n_neighbors=5)\n",
    "\n",
    "# Fit the model\n",
    "knn_model.fit(X_train, y_train)\n",
    "\n",
    "# Predict\n",
    "y_pred_knn = knn_model.predict(X_test)\n",
    "\n",
    "# Evaluation\n",
    "cm = confusion_matrix(y_test, y_pred_knn)\n",
    "recall = recall_score(y_test, y_pred_knn)\n",
    "accuracy = accuracy_score(y_test, y_pred_knn)\n",
    "\n",
    "print(\"🔍 K-Nearest Neighbors Results\")\n",
    "print(\"Confusion Matrix:\\n\", cm)\n",
    "print(\"Recall Score:\", recall)\n",
    "print(\"Accuracy Score:\", accuracy)\n",
    "print(\"\\nClassification Report:\\n\", classification_report(y_test, y_pred_knn))\n"
   ]
  }
 ],
 "metadata": {
  "kernelspec": {
   "display_name": "exassaro",
   "language": "python",
   "name": "python3"
  },
  "language_info": {
   "codemirror_mode": {
    "name": "ipython",
    "version": 3
   },
   "file_extension": ".py",
   "mimetype": "text/x-python",
   "name": "python",
   "nbconvert_exporter": "python",
   "pygments_lexer": "ipython3",
   "version": "3.12.9"
  }
 },
 "nbformat": 4,
 "nbformat_minor": 5
}
