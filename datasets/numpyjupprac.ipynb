{
 "cells": [
  {
   "cell_type": "code",
   "execution_count": 1,
   "id": "5f1d41e6",
   "metadata": {},
   "outputs": [
    {
     "name": "stdout",
     "output_type": "stream",
     "text": [
      "[1 2 3 4]\n"
     ]
    }
   ],
   "source": [
    "import numpy as np\n",
    "arr=np.array([1,2,3,4])\n",
    "print(arr)"
   ]
  },
  {
   "cell_type": "code",
   "execution_count": 2,
   "id": "ea471623",
   "metadata": {},
   "outputs": [
    {
     "name": "stdout",
     "output_type": "stream",
     "text": [
      "[[1 2 3 4]\n",
      " [6 7 8 9]]\n"
     ]
    }
   ],
   "source": [
    "x=[[1,2,3,4],[6,7,8,9]]\n",
    "arr1=np.array(x)\n",
    "print(arr1)\n"
   ]
  },
  {
   "cell_type": "code",
   "execution_count": null,
   "id": "89942272",
   "metadata": {},
   "outputs": [],
   "source": [
    "arr1.ndim #to know the dimention"
   ]
  },
  {
   "cell_type": "code",
   "execution_count": null,
   "id": "19ac49a6",
   "metadata": {},
   "outputs": [],
   "source": [
    "arr1.shape #gives number of rows and columns"
   ]
  },
  {
   "cell_type": "code",
   "execution_count": null,
   "id": "b7cac9b6",
   "metadata": {},
   "outputs": [],
   "source": [
    "arr3D = np.array([[[1, 2], [3, 4]], [[5, 6], [7, 8]]])\n",
    "print(arr3D)\n",
    "arr3D.ndim"
   ]
  },
  {
   "cell_type": "code",
   "execution_count": null,
   "id": "ae1ee907",
   "metadata": {},
   "outputs": [],
   "source": [
    "arr3D.shape"
   ]
  },
  {
   "cell_type": "code",
   "execution_count": null,
   "id": "cb1dedee",
   "metadata": {},
   "outputs": [],
   "source": [
    "print(arr1.dtype)#Type of data"
   ]
  },
  {
   "cell_type": "code",
   "execution_count": null,
   "id": "e5fbf1f2",
   "metadata": {},
   "outputs": [],
   "source": [
    "print(np.zeros((3,3)))#zero matrix\n",
    "print(np.ones((2,2)))#Matrix of ones\n",
    "print(np.eye(4)) # identity matrix\n",
    "print(np.arange(1,10,2))\n",
    "print(np.linspace(0,10,5)) # evenly spaced"
   ]
  },
  {
   "cell_type": "markdown",
   "id": "3f14073f",
   "metadata": {},
   "source": [
    "# Data types in numpy"
   ]
  },
  {
   "cell_type": "code",
   "execution_count": null,
   "id": "1051adfc",
   "metadata": {},
   "outputs": [],
   "source": [
    "import numpy as np \n",
    "\n",
    "a=np.array(list(range(10)),dtype=np.float64)\n",
    "print(a)"
   ]
  },
  {
   "cell_type": "code",
   "execution_count": null,
   "id": "c112d231",
   "metadata": {},
   "outputs": [],
   "source": [
    "arrint=np.array(list(range(10)),dtype=np.int32)\n",
    "print(arrint)"
   ]
  },
  {
   "cell_type": "code",
   "execution_count": null,
   "id": "4916ddcf",
   "metadata": {},
   "outputs": [],
   "source": [
    "v=arrint.astype(np.float64) #convert to another data type\n",
    "print(v)\n",
    "print(v.dtype) # find what kinnd  of data type"
   ]
  },
  {
   "cell_type": "code",
   "execution_count": null,
   "id": "35e0127a",
   "metadata": {},
   "outputs": [],
   "source": [
    "x=['1','2','3','4']\n",
    "num_string=np.array(x,dtype=np.string_)\n",
    "print(num_string)"
   ]
  },
  {
   "cell_type": "code",
   "execution_count": null,
   "id": "6059b404",
   "metadata": {},
   "outputs": [],
   "source": [
    "num_arry=num_string.astype(np.int32)\n",
    "print(num_arry)#we can convert array of string to integer type as well"
   ]
  },
  {
   "cell_type": "code",
   "execution_count": null,
   "id": "f74af7f7",
   "metadata": {},
   "outputs": [],
   "source": [
    "nums=num_string.astype(a.dtype)\n",
    "print(nums)#we can also specifically convert them to a previous datatype of an array"
   ]
  },
  {
   "cell_type": "markdown",
   "id": "02820f8e",
   "metadata": {},
   "source": [
    "# Pseudo random number generation"
   ]
  },
  {
   "cell_type": "code",
   "execution_count": null,
   "id": "8dc7762b",
   "metadata": {},
   "outputs": [],
   "source": [
    "import numpy as np \n",
    "\n",
    "samples1=np.random.randn(5)#to generate random numbers\n",
    "print(samples1)"
   ]
  },
  {
   "cell_type": "code",
   "execution_count": null,
   "id": "76af1140",
   "metadata": {},
   "outputs": [],
   "source": [
    "np.random.randn()#to generate single value"
   ]
  },
  {
   "cell_type": "code",
   "execution_count": null,
   "id": "f54b7da9",
   "metadata": {},
   "outputs": [],
   "source": [
    "smp=np.random.randn(2,3) #rows X columns\n",
    "print(smp)"
   ]
  },
  {
   "cell_type": "code",
   "execution_count": null,
   "id": "1b661291",
   "metadata": {},
   "outputs": [],
   "source": [
    "smp2=np.random.randn(2,3,3)#higher dimention\n",
    "print(smp2)"
   ]
  },
  {
   "cell_type": "markdown",
   "id": "d78da367",
   "metadata": {},
   "source": [
    "# Indexing and Slicing"
   ]
  },
  {
   "cell_type": "code",
   "execution_count": null,
   "id": "0daf7c4d",
   "metadata": {},
   "outputs": [],
   "source": [
    "array1=np.array(np.arange(20))\n",
    "print(array1)"
   ]
  },
  {
   "cell_type": "code",
   "execution_count": null,
   "id": "8ebcc6dd",
   "metadata": {},
   "outputs": [],
   "source": [
    "array1[2]#numpy create a view instead of a copy like list slicing"
   ]
  },
  {
   "cell_type": "code",
   "execution_count": null,
   "id": "66809309",
   "metadata": {},
   "outputs": [],
   "source": [
    "array1[10:20]"
   ]
  },
  {
   "cell_type": "code",
   "execution_count": null,
   "id": "b194b461",
   "metadata": {},
   "outputs": [],
   "source": [
    "xy=[[1,2,3,4],[6,7,8,9]]\n",
    "arr1=np.array(xy)\n",
    "print(arr1[1][3])\n",
    "print(arr1[1,3])"
   ]
  },
  {
   "cell_type": "code",
   "execution_count": null,
   "id": "dee9aa95",
   "metadata": {},
   "outputs": [],
   "source": [
    "print(arr1[:2,3])\n",
    "print(arr1[:2,1:])\n",
    "print(arr1[:,0:3])"
   ]
  },
  {
   "cell_type": "markdown",
   "id": "ba8be708",
   "metadata": {},
   "source": [
    "# Boolean Indexing"
   ]
  },
  {
   "cell_type": "code",
   "execution_count": null,
   "id": "d972df99",
   "metadata": {},
   "outputs": [],
   "source": [
    "days=np.array(['Sun','Mon','Tue','Wed','Thu','Fri','Sat','Sun','Thu','Thu'])\n",
    "print(days)"
   ]
  },
  {
   "cell_type": "code",
   "execution_count": null,
   "id": "fb1c7532",
   "metadata": {},
   "outputs": [],
   "source": [
    "data=np.random.rand(10,4)\n",
    "print(data)"
   ]
  },
  {
   "cell_type": "code",
   "execution_count": null,
   "id": "8735ec0b",
   "metadata": {},
   "outputs": [],
   "source": [
    "days=='Sun'"
   ]
  },
  {
   "cell_type": "code",
   "execution_count": null,
   "id": "36bd0824",
   "metadata": {},
   "outputs": [],
   "source": [
    "data[days=='Sun'] # this gives position from source data 2nd and 8th row"
   ]
  },
  {
   "cell_type": "code",
   "execution_count": null,
   "id": "ba0f9a1e",
   "metadata": {},
   "outputs": [],
   "source": [
    "data[days=='Sun',1]"
   ]
  },
  {
   "cell_type": "code",
   "execution_count": null,
   "id": "4f85d93b",
   "metadata": {},
   "outputs": [],
   "source": [
    "~(days=='Sun') #this sympol used to negate the condition"
   ]
  },
  {
   "cell_type": "code",
   "execution_count": null,
   "id": "63475a86",
   "metadata": {},
   "outputs": [],
   "source": [
    "mult_cond=(days=='Sun')|(days=='Thu') # | 'or' for multiple condition\n",
    "print(mult_cond)"
   ]
  },
  {
   "cell_type": "markdown",
   "id": "668664f5",
   "metadata": {},
   "source": [
    "# Mathematical and Statistical Method"
   ]
  },
  {
   "cell_type": "code",
   "execution_count": null,
   "id": "d34f3748",
   "metadata": {},
   "outputs": [],
   "source": [
    "data=np.random.randn(6,3)\n",
    "data"
   ]
  },
  {
   "cell_type": "code",
   "execution_count": null,
   "id": "6bd13d26",
   "metadata": {},
   "outputs": [],
   "source": [
    "data.mean()"
   ]
  },
  {
   "cell_type": "code",
   "execution_count": null,
   "id": "42fe4de0",
   "metadata": {},
   "outputs": [],
   "source": [
    "data.min()"
   ]
  },
  {
   "cell_type": "code",
   "execution_count": null,
   "id": "f990b566",
   "metadata": {},
   "outputs": [],
   "source": [
    "data.max()"
   ]
  },
  {
   "cell_type": "code",
   "execution_count": null,
   "id": "c9dc7315",
   "metadata": {},
   "outputs": [],
   "source": [
    "data.sum()"
   ]
  },
  {
   "cell_type": "code",
   "execution_count": null,
   "id": "f8ff1eae",
   "metadata": {},
   "outputs": [],
   "source": [
    "data.sum(axis=0) # 0 for row axix 1 for column axis"
   ]
  },
  {
   "cell_type": "code",
   "execution_count": null,
   "id": "07c36fab",
   "metadata": {},
   "outputs": [],
   "source": [
    "data[:,0:1].sum()"
   ]
  },
  {
   "cell_type": "code",
   "execution_count": null,
   "id": "e0cb7c4f",
   "metadata": {},
   "outputs": [],
   "source": [
    "data.sum(axis=1)"
   ]
  },
  {
   "cell_type": "code",
   "execution_count": null,
   "id": "6945e09b",
   "metadata": {},
   "outputs": [],
   "source": [
    "values=np.arange(5)\n",
    "values"
   ]
  },
  {
   "cell_type": "code",
   "execution_count": null,
   "id": "b528b7dd",
   "metadata": {},
   "outputs": [],
   "source": [
    "values.cumsum() # fibanacci series / cumulative sum"
   ]
  },
  {
   "cell_type": "code",
   "execution_count": null,
   "id": "01483ac4",
   "metadata": {},
   "outputs": [],
   "source": [
    "matrix_array=np.array([np.arange(1,5),np.arange(6,10),np.arange(11,15)])\n",
    "matrix_array"
   ]
  },
  {
   "cell_type": "code",
   "execution_count": null,
   "id": "276cbc66",
   "metadata": {},
   "outputs": [],
   "source": [
    "matrix_array.cumsum(axis=0)"
   ]
  },
  {
   "cell_type": "code",
   "execution_count": null,
   "id": "970b1b7b",
   "metadata": {},
   "outputs": [],
   "source": [
    "matrix_array.cumprod(axis=1)"
   ]
  },
  {
   "cell_type": "markdown",
   "id": "cf22b7f1",
   "metadata": {},
   "source": [
    "# Arithmetic opertaions"
   ]
  },
  {
   "cell_type": "code",
   "execution_count": null,
   "id": "add1eca6",
   "metadata": {},
   "outputs": [],
   "source": [
    "data1=np.array([[1,2,3,4],[5,6,7,8]])\n",
    "data1"
   ]
  },
  {
   "cell_type": "code",
   "execution_count": null,
   "id": "6f6bbd37",
   "metadata": {},
   "outputs": [],
   "source": [
    "data1*data1 #multiplication"
   ]
  },
  {
   "cell_type": "code",
   "execution_count": null,
   "id": "a6fe23b6",
   "metadata": {},
   "outputs": [],
   "source": [
    "data1+data1 #addition"
   ]
  },
  {
   "cell_type": "code",
   "execution_count": null,
   "id": "2ac8d95d",
   "metadata": {},
   "outputs": [],
   "source": [
    "data2=data1*3 #scalar multiplication\n",
    "data2"
   ]
  },
  {
   "cell_type": "code",
   "execution_count": null,
   "id": "da281e10",
   "metadata": {},
   "outputs": [],
   "source": [
    "1/data1 #division"
   ]
  },
  {
   "cell_type": "code",
   "execution_count": null,
   "id": "9c8414c8",
   "metadata": {},
   "outputs": [],
   "source": [
    "data1**(2) #square"
   ]
  },
  {
   "cell_type": "code",
   "execution_count": null,
   "id": "f6c9db4d",
   "metadata": {},
   "outputs": [],
   "source": [
    "data3=np.array([[1,2,12,14],[10,11,10,10]])\n",
    "data3"
   ]
  },
  {
   "cell_type": "code",
   "execution_count": null,
   "id": "26e736f7",
   "metadata": {},
   "outputs": [],
   "source": [
    "(data1>=data3) #chech each element comparison"
   ]
  },
  {
   "cell_type": "markdown",
   "id": "4de3126a",
   "metadata": {},
   "source": [
    "# Universal Functions"
   ]
  },
  {
   "cell_type": "code",
   "execution_count": 4,
   "id": "f38e72aa",
   "metadata": {},
   "outputs": [
    {
     "data": {
      "text/plain": [
       "array([0, 1, 2, 3, 4])"
      ]
     },
     "execution_count": 4,
     "metadata": {},
     "output_type": "execute_result"
    }
   ],
   "source": [
    "import numpy as np\n",
    "data=np.arange(5)\n",
    "data"
   ]
  },
  {
   "cell_type": "code",
   "execution_count": null,
   "id": "24391ff1",
   "metadata": {},
   "outputs": [
    {
     "data": {
      "text/plain": [
       "array([0.        , 1.        , 1.41421356, 1.73205081, 2.        ])"
      ]
     },
     "execution_count": 3,
     "metadata": {},
     "output_type": "execute_result"
    }
   ],
   "source": [
    "np.sqrt(data) #square root"
   ]
  },
  {
   "cell_type": "code",
   "execution_count": null,
   "id": "64497eeb",
   "metadata": {},
   "outputs": [],
   "source": [
    "np.exp(data)#exponential"
   ]
  },
  {
   "cell_type": "code",
   "execution_count": null,
   "id": "8b7b1ab9",
   "metadata": {},
   "outputs": [],
   "source": [
    "np.max(data)"
   ]
  },
  {
   "cell_type": "code",
   "execution_count": null,
   "id": "24ca6be1",
   "metadata": {},
   "outputs": [],
   "source": [
    "np.min(data)"
   ]
  },
  {
   "cell_type": "code",
   "execution_count": 5,
   "id": "f2b4d9b7",
   "metadata": {},
   "outputs": [
    {
     "data": {
      "text/plain": [
       "array([-0.58243101,  1.77817055, -0.21472935,  0.24998268, -2.93774576])"
      ]
     },
     "execution_count": 5,
     "metadata": {},
     "output_type": "execute_result"
    }
   ],
   "source": [
    "data1=np.random.randn(5)\n",
    "data1"
   ]
  },
  {
   "cell_type": "code",
   "execution_count": 7,
   "id": "7988740b",
   "metadata": {},
   "outputs": [
    {
     "data": {
      "text/plain": [
       "array([ 1.23585716,  0.97713497, -3.43479984, -0.08414899, -0.86849404])"
      ]
     },
     "execution_count": 7,
     "metadata": {},
     "output_type": "execute_result"
    }
   ],
   "source": [
    "data2=np.random.randn(5)\n",
    "data2"
   ]
  },
  {
   "cell_type": "code",
   "execution_count": 8,
   "id": "6cfe4200",
   "metadata": {},
   "outputs": [
    {
     "data": {
      "text/plain": [
       "array([ 1.23585716,  1.77817055, -0.21472935,  0.24998268, -0.86849404])"
      ]
     },
     "execution_count": 8,
     "metadata": {},
     "output_type": "execute_result"
    }
   ],
   "source": [
    "np.maximum(data1,data2)"
   ]
  },
  {
   "cell_type": "code",
   "execution_count": 9,
   "id": "eb951f15",
   "metadata": {},
   "outputs": [
    {
     "data": {
      "text/plain": [
       "array([ -0.76990689,  10.13923864,  -0.33387076, -10.18045766,\n",
       "         1.07753877,  15.52850806,   3.17590289,  -5.05545899,\n",
       "         5.41108872,  -1.39240536])"
      ]
     },
     "execution_count": 9,
     "metadata": {},
     "output_type": "execute_result"
    }
   ],
   "source": [
    "data3=np.random.randn(10)*5\n",
    "data3"
   ]
  },
  {
   "cell_type": "code",
   "execution_count": 10,
   "id": "f0edd50f",
   "metadata": {},
   "outputs": [],
   "source": [
    "fractional,integral=np.modf(data3)"
   ]
  },
  {
   "cell_type": "code",
   "execution_count": 11,
   "id": "b9c521db",
   "metadata": {},
   "outputs": [
    {
     "data": {
      "text/plain": [
       "array([-0.76990689,  0.13923864, -0.33387076, -0.18045766,  0.07753877,\n",
       "        0.52850806,  0.17590289, -0.05545899,  0.41108872, -0.39240536])"
      ]
     },
     "execution_count": 11,
     "metadata": {},
     "output_type": "execute_result"
    }
   ],
   "source": [
    "fractional"
   ]
  },
  {
   "cell_type": "code",
   "execution_count": 12,
   "id": "5c2cc79f",
   "metadata": {},
   "outputs": [
    {
     "data": {
      "text/plain": [
       "array([ -0.,  10.,  -0., -10.,   1.,  15.,   3.,  -5.,   5.,  -1.])"
      ]
     },
     "execution_count": 12,
     "metadata": {},
     "output_type": "execute_result"
    }
   ],
   "source": [
    "integral"
   ]
  },
  {
   "cell_type": "code",
   "execution_count": 13,
   "id": "67522273",
   "metadata": {},
   "outputs": [
    {
     "data": {
      "text/plain": [
       "array([0.87744338, 3.18421711, 0.57781551, 3.19068295, 1.03804565,\n",
       "       3.9406228 , 1.78210631, 2.24843479, 2.3261747 , 1.18000227])"
      ]
     },
     "execution_count": 13,
     "metadata": {},
     "output_type": "execute_result"
    }
   ],
   "source": [
    "np.sqrt(np.abs(data3))"
   ]
  },
  {
   "cell_type": "code",
   "execution_count": 14,
   "id": "805e4557",
   "metadata": {},
   "outputs": [
    {
     "data": {
      "text/plain": [
       "array([5.92756623e-01, 1.02804160e+02, 1.11469684e-01, 1.03641718e+02,\n",
       "       1.16108980e+00, 2.41134563e+02, 1.00863592e+01, 2.55576656e+01,\n",
       "       2.92798811e+01, 1.93879268e+00])"
      ]
     },
     "execution_count": 14,
     "metadata": {},
     "output_type": "execute_result"
    }
   ],
   "source": [
    "np.square(data3)"
   ]
  },
  {
   "cell_type": "code",
   "execution_count": null,
   "id": "7337d54a",
   "metadata": {},
   "outputs": [
    {
     "data": {
      "text/plain": [
       "array([ -1.,  10.,  -0., -10.,   1.,  16.,   3.,  -5.,   5.,  -1.])"
      ]
     },
     "execution_count": 15,
     "metadata": {},
     "output_type": "execute_result"
    }
   ],
   "source": [
    "np.rint(data3) # round elements to nearest ineteger"
   ]
  },
  {
   "cell_type": "code",
   "execution_count": 16,
   "id": "1198f6b5",
   "metadata": {},
   "outputs": [
    {
     "data": {
      "text/plain": [
       "array([ -0.,  11.,  -0., -10.,   2.,  16.,   4.,  -5.,   6.,  -1.])"
      ]
     },
     "execution_count": 16,
     "metadata": {},
     "output_type": "execute_result"
    }
   ],
   "source": [
    "np.ceil(data3) # compute ceiling of each elements"
   ]
  },
  {
   "cell_type": "code",
   "execution_count": 20,
   "id": "47288c54",
   "metadata": {},
   "outputs": [
    {
     "data": {
      "text/plain": [
       "array([[0, 1, 2, 3, 4],\n",
       "       [5, 6, 7, 8, 9]])"
      ]
     },
     "execution_count": 20,
     "metadata": {},
     "output_type": "execute_result"
    }
   ],
   "source": [
    "data4=np.arange(10).reshape(2,5)\n",
    "data4"
   ]
  },
  {
   "cell_type": "code",
   "execution_count": 22,
   "id": "0f4522a0",
   "metadata": {},
   "outputs": [
    {
     "data": {
      "text/plain": [
       "array([[ 5,  6,  7,  8,  9],\n",
       "       [10, 11, 12, 13, 14]])"
      ]
     },
     "execution_count": 22,
     "metadata": {},
     "output_type": "execute_result"
    }
   ],
   "source": [
    "data5=np.arange(5,15).reshape(2,5)\n",
    "data5"
   ]
  },
  {
   "cell_type": "code",
   "execution_count": 23,
   "id": "44ae30fd",
   "metadata": {},
   "outputs": [
    {
     "data": {
      "text/plain": [
       "array([[ 5,  7,  9, 11, 13],\n",
       "       [15, 17, 19, 21, 23]])"
      ]
     },
     "execution_count": 23,
     "metadata": {},
     "output_type": "execute_result"
    }
   ],
   "source": [
    "np.add(data4,data5)"
   ]
  },
  {
   "cell_type": "code",
   "execution_count": 24,
   "id": "4c8240ce",
   "metadata": {},
   "outputs": [
    {
     "data": {
      "text/plain": [
       "array([[5, 5, 5, 5, 5],\n",
       "       [5, 5, 5, 5, 5]])"
      ]
     },
     "execution_count": 24,
     "metadata": {},
     "output_type": "execute_result"
    }
   ],
   "source": [
    "np.subtract(data5,data4)"
   ]
  },
  {
   "cell_type": "code",
   "execution_count": 25,
   "id": "c13db052",
   "metadata": {},
   "outputs": [
    {
     "data": {
      "text/plain": [
       "array([[  0,   6,  14,  24,  36],\n",
       "       [ 50,  66,  84, 104, 126]])"
      ]
     },
     "execution_count": 25,
     "metadata": {},
     "output_type": "execute_result"
    }
   ],
   "source": [
    "np.multiply(data4,data5)"
   ]
  },
  {
   "cell_type": "code",
   "execution_count": 26,
   "id": "a787d62d",
   "metadata": {},
   "outputs": [
    {
     "data": {
      "text/plain": [
       "array([[0.        , 0.16666667, 0.28571429, 0.375     , 0.44444444],\n",
       "       [0.5       , 0.54545455, 0.58333333, 0.61538462, 0.64285714]])"
      ]
     },
     "execution_count": 26,
     "metadata": {},
     "output_type": "execute_result"
    }
   ],
   "source": [
    "np.divide(data4,data5)"
   ]
  },
  {
   "cell_type": "code",
   "execution_count": 28,
   "id": "f9c82837",
   "metadata": {},
   "outputs": [
    {
     "data": {
      "text/plain": [
       "array([[         0,          1,        128,       6561,     262144],\n",
       "       [   9765625,  362797056,  956385313,          0, 1796636465]])"
      ]
     },
     "execution_count": 28,
     "metadata": {},
     "output_type": "execute_result"
    }
   ],
   "source": [
    "np.power(data4,data5) # powers first array elemnts by powering with second array elements as power"
   ]
  },
  {
   "cell_type": "code",
   "execution_count": 29,
   "id": "1ae30450",
   "metadata": {},
   "outputs": [
    {
     "data": {
      "text/plain": [
       "array([[False, False, False, False, False],\n",
       "       [False, False, False, False, False]])"
      ]
     },
     "execution_count": 29,
     "metadata": {},
     "output_type": "execute_result"
    }
   ],
   "source": [
    "np.greater(data4,data5)"
   ]
  },
  {
   "cell_type": "code",
   "execution_count": 30,
   "id": "69314034",
   "metadata": {},
   "outputs": [
    {
     "data": {
      "text/plain": [
       "array([[ True,  True,  True,  True,  True],\n",
       "       [ True,  True,  True,  True,  True]])"
      ]
     },
     "execution_count": 30,
     "metadata": {},
     "output_type": "execute_result"
    }
   ],
   "source": [
    "np.greater(data5,data4)"
   ]
  },
  {
   "cell_type": "markdown",
   "id": "a486a41f",
   "metadata": {},
   "source": [
    "# Conditional in Numpy\n"
   ]
  },
  {
   "cell_type": "code",
   "execution_count": 31,
   "id": "71aec55c",
   "metadata": {},
   "outputs": [],
   "source": [
    "import numpy as np"
   ]
  },
  {
   "cell_type": "code",
   "execution_count": null,
   "id": "58d6ab6c",
   "metadata": {},
   "outputs": [
    {
     "data": {
      "text/plain": [
       "array([0, 1, 2, 3, 4])"
      ]
     },
     "execution_count": 32,
     "metadata": {},
     "output_type": "execute_result"
    }
   ],
   "source": [
    "data_x=np.array(np.arange(5))\n",
    "data_x"
   ]
  },
  {
   "cell_type": "code",
   "execution_count": 33,
   "id": "f39fd21a",
   "metadata": {},
   "outputs": [
    {
     "data": {
      "text/plain": [
       "array([5, 6, 7, 8, 9])"
      ]
     },
     "execution_count": 33,
     "metadata": {},
     "output_type": "execute_result"
    }
   ],
   "source": [
    "data_y=np.array(np.arange(5,10))\n",
    "data_y"
   ]
  },
  {
   "cell_type": "code",
   "execution_count": 34,
   "id": "e6d309e4",
   "metadata": {},
   "outputs": [],
   "source": [
    "cond=np.array([True,False,False,True,True])"
   ]
  },
  {
   "cell_type": "code",
   "execution_count": 35,
   "id": "fc5eddb2",
   "metadata": {},
   "outputs": [
    {
     "data": {
      "text/plain": [
       "[0, 6, 7, 3, 4]"
      ]
     },
     "execution_count": 35,
     "metadata": {},
     "output_type": "execute_result"
    }
   ],
   "source": [
    "result=[(x if c else y) for x,c,y in zip(data_x,cond,data_y) ]\n",
    "result"
   ]
  },
  {
   "cell_type": "code",
   "execution_count": 42,
   "id": "e32bde3b",
   "metadata": {},
   "outputs": [
    {
     "data": {
      "text/plain": [
       "[0, 6, 7, 3, 4]"
      ]
     },
     "execution_count": 42,
     "metadata": {},
     "output_type": "execute_result"
    }
   ],
   "source": [
    "result_where=np.where(cond,data_x,data_y) # we can use where instead of conditional list comprehension as mentioned above\n",
    "result"
   ]
  },
  {
   "cell_type": "code",
   "execution_count": 39,
   "id": "d28feb84",
   "metadata": {},
   "outputs": [
    {
     "data": {
      "text/plain": [
       "array([[-0.86005245, -0.86493951, -0.74138883,  0.58233999],\n",
       "       [ 2.37254788,  0.0389929 ,  0.94551377,  0.86043525],\n",
       "       [-0.91678371,  1.10559118,  0.02676358, -0.39862603],\n",
       "       [ 0.03173787, -1.1008307 ,  0.72337283, -1.44455562],\n",
       "       [ 0.36469493,  1.0953233 , -0.43994941,  1.90754222],\n",
       "       [ 0.88092408, -1.09647774, -0.24275498,  1.2057692 ],\n",
       "       [-0.49816312, -1.72206285,  0.07845719, -0.8024758 ],\n",
       "       [-0.50776314,  0.41215448,  1.00033087,  1.61265791],\n",
       "       [-0.43998729, -0.88570417, -0.10301731,  0.44522397],\n",
       "       [ 0.38134034, -1.85711825, -1.46960603, -1.39728949]])"
      ]
     },
     "execution_count": 39,
     "metadata": {},
     "output_type": "execute_result"
    }
   ],
   "source": [
    "data_z=np.random.randn(10,4)\n",
    "data_z"
   ]
  },
  {
   "cell_type": "code",
   "execution_count": 40,
   "id": "65f43b8e",
   "metadata": {},
   "outputs": [
    {
     "data": {
      "text/plain": [
       "array([[-5, -5, -5,  5],\n",
       "       [ 5,  5,  5,  5],\n",
       "       [-5,  5,  5, -5],\n",
       "       [ 5, -5,  5, -5],\n",
       "       [ 5,  5, -5,  5],\n",
       "       [ 5, -5, -5,  5],\n",
       "       [-5, -5,  5, -5],\n",
       "       [-5,  5,  5,  5],\n",
       "       [-5, -5, -5,  5],\n",
       "       [ 5, -5, -5, -5]])"
      ]
     },
     "execution_count": 40,
     "metadata": {},
     "output_type": "execute_result"
    }
   ],
   "source": [
    "result_2=np.where(data_z>0,5,-5)\n",
    "result_2"
   ]
  },
  {
   "cell_type": "code",
   "execution_count": 41,
   "id": "7718f6a0",
   "metadata": {},
   "outputs": [
    {
     "data": {
      "text/plain": [
       "array([[-0.86005245, -0.86493951, -0.74138883,  5.        ],\n",
       "       [ 5.        ,  5.        ,  5.        ,  5.        ],\n",
       "       [-0.91678371,  5.        ,  5.        , -0.39862603],\n",
       "       [ 5.        , -1.1008307 ,  5.        , -1.44455562],\n",
       "       [ 5.        ,  5.        , -0.43994941,  5.        ],\n",
       "       [ 5.        , -1.09647774, -0.24275498,  5.        ],\n",
       "       [-0.49816312, -1.72206285,  5.        , -0.8024758 ],\n",
       "       [-0.50776314,  5.        ,  5.        ,  5.        ],\n",
       "       [-0.43998729, -0.88570417, -0.10301731,  5.        ],\n",
       "       [ 5.        , -1.85711825, -1.46960603, -1.39728949]])"
      ]
     },
     "execution_count": 41,
     "metadata": {},
     "output_type": "execute_result"
    }
   ],
   "source": [
    "result_2=np.where(data_z>0,5,data_z)\n",
    "result_2"
   ]
  },
  {
   "cell_type": "markdown",
   "id": "87bd22da",
   "metadata": {},
   "source": [
    "# Sorting in Numpy"
   ]
  },
  {
   "cell_type": "code",
   "execution_count": 43,
   "id": "d53abefc",
   "metadata": {},
   "outputs": [],
   "source": [
    "import numpy as np"
   ]
  },
  {
   "cell_type": "code",
   "execution_count": 44,
   "id": "3df77964",
   "metadata": {},
   "outputs": [
    {
     "data": {
      "text/plain": [
       "array([-0.64809464,  0.23756916, -0.79708441,  1.08554614, -0.12647241,\n",
       "        0.00701161, -1.01737359,  1.06068252,  1.01918159, -0.62314987])"
      ]
     },
     "execution_count": 44,
     "metadata": {},
     "output_type": "execute_result"
    }
   ],
   "source": [
    "data=np.random.randn(10)\n",
    "data"
   ]
  },
  {
   "cell_type": "code",
   "execution_count": null,
   "id": "f489b90c",
   "metadata": {},
   "outputs": [
    {
     "data": {
      "text/plain": [
       "array([-1.01737359, -0.79708441, -0.64809464, -0.62314987, -0.12647241,\n",
       "        0.00701161,  0.23756916,  1.01918159,  1.06068252,  1.08554614])"
      ]
     },
     "execution_count": 47,
     "metadata": {},
     "output_type": "execute_result"
    }
   ],
   "source": [
    "data.sort()\n",
    "data  # this will sort inplace "
   ]
  },
  {
   "cell_type": "code",
   "execution_count": 50,
   "id": "50879d84",
   "metadata": {},
   "outputs": [
    {
     "data": {
      "text/plain": [
       "array([-1.01737359, -0.79708441, -0.64809464, -0.62314987, -0.12647241,\n",
       "        0.00701161,  0.23756916,  1.01918159,  1.06068252,  1.08554614])"
      ]
     },
     "execution_count": 50,
     "metadata": {},
     "output_type": "execute_result"
    }
   ],
   "source": [
    "np.sort(data) # this will retun a copy of array"
   ]
  },
  {
   "cell_type": "code",
   "execution_count": 49,
   "id": "ee327201",
   "metadata": {},
   "outputs": [
    {
     "data": {
      "text/plain": [
       "array([[-1.44535867, -0.45629099,  0.87752903],\n",
       "       [ 0.53862691, -0.12392899,  0.7557267 ],\n",
       "       [-1.85931078,  0.00582964, -1.10065983],\n",
       "       [ 0.48879584,  0.94368743, -1.16046726],\n",
       "       [ 0.74442451,  0.70728594,  0.66777029],\n",
       "       [ 0.91423816, -0.20882763,  2.27600858]])"
      ]
     },
     "execution_count": 49,
     "metadata": {},
     "output_type": "execute_result"
    }
   ],
   "source": [
    "matrix_data=np.random.randn(6,3)\n",
    "matrix_data"
   ]
  },
  {
   "cell_type": "code",
   "execution_count": 52,
   "id": "83345352",
   "metadata": {},
   "outputs": [
    {
     "data": {
      "text/plain": [
       "array([[-1.44535867, -0.45629099,  0.87752903],\n",
       "       [-0.12392899,  0.53862691,  0.7557267 ],\n",
       "       [-1.85931078, -1.10065983,  0.00582964],\n",
       "       [-1.16046726,  0.48879584,  0.94368743],\n",
       "       [ 0.66777029,  0.70728594,  0.74442451],\n",
       "       [-0.20882763,  0.91423816,  2.27600858]])"
      ]
     },
     "execution_count": 52,
     "metadata": {},
     "output_type": "execute_result"
    }
   ],
   "source": [
    "matrix_data.sort(axis=1)\n",
    "matrix_data"
   ]
  },
  {
   "cell_type": "code",
   "execution_count": 53,
   "id": "43f74bc8",
   "metadata": {},
   "outputs": [
    {
     "data": {
      "text/plain": [
       "array([[-1.85931078, -1.10065983,  0.00582964],\n",
       "       [-1.44535867, -0.45629099,  0.74442451],\n",
       "       [-1.16046726,  0.48879584,  0.7557267 ],\n",
       "       [-0.20882763,  0.53862691,  0.87752903],\n",
       "       [-0.12392899,  0.70728594,  0.94368743],\n",
       "       [ 0.66777029,  0.91423816,  2.27600858]])"
      ]
     },
     "execution_count": 53,
     "metadata": {},
     "output_type": "execute_result"
    }
   ],
   "source": [
    "matrix_data.sort(axis=0)\n",
    "matrix_data"
   ]
  },
  {
   "cell_type": "code",
   "execution_count": null,
   "id": "0b6af89e",
   "metadata": {},
   "outputs": [],
   "source": []
  }
 ],
 "metadata": {
  "kernelspec": {
   "display_name": "exassaro",
   "language": "python",
   "name": "python3"
  },
  "language_info": {
   "codemirror_mode": {
    "name": "ipython",
    "version": 3
   },
   "file_extension": ".py",
   "mimetype": "text/x-python",
   "name": "python",
   "nbconvert_exporter": "python",
   "pygments_lexer": "ipython3",
   "version": "3.12.9"
  }
 },
 "nbformat": 4,
 "nbformat_minor": 5
}
